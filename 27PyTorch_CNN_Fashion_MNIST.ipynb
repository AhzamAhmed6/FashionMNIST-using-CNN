{
  "nbformat": 4,
  "nbformat_minor": 0,
  "metadata": {
    "colab": {
      "name": "27PyTorch CNN Fashion MNIST.ipynb",
      "provenance": [],
      "collapsed_sections": [],
      "authorship_tag": "ABX9TyPIV8uhtAGSYk94RbiM9r8x",
      "include_colab_link": true
    },
    "kernelspec": {
      "name": "python3",
      "display_name": "Python 3"
    },
    "language_info": {
      "name": "python"
    },
    "widgets": {
      "application/vnd.jupyter.widget-state+json": {
        "d07dc5b434aa4b829a027a902a1cbf76": {
          "model_module": "@jupyter-widgets/controls",
          "model_name": "HBoxModel",
          "model_module_version": "1.5.0",
          "state": {
            "_view_name": "HBoxView",
            "_dom_classes": [],
            "_model_name": "HBoxModel",
            "_view_module": "@jupyter-widgets/controls",
            "_model_module_version": "1.5.0",
            "_view_count": null,
            "_view_module_version": "1.5.0",
            "box_style": "",
            "layout": "IPY_MODEL_03b22e8c1a8648e4af003de4d54df2ca",
            "_model_module": "@jupyter-widgets/controls",
            "children": [
              "IPY_MODEL_d95b107f0dbb47ee820ba51cd964b7fb",
              "IPY_MODEL_9bda163e549647f9aa264d1a7b2e9874",
              "IPY_MODEL_aec4046e74c04337b505d3cffd77dc66"
            ]
          }
        },
        "03b22e8c1a8648e4af003de4d54df2ca": {
          "model_module": "@jupyter-widgets/base",
          "model_name": "LayoutModel",
          "model_module_version": "1.2.0",
          "state": {
            "_view_name": "LayoutView",
            "grid_template_rows": null,
            "right": null,
            "justify_content": null,
            "_view_module": "@jupyter-widgets/base",
            "overflow": null,
            "_model_module_version": "1.2.0",
            "_view_count": null,
            "flex_flow": null,
            "width": null,
            "min_width": null,
            "border": null,
            "align_items": null,
            "bottom": null,
            "_model_module": "@jupyter-widgets/base",
            "top": null,
            "grid_column": null,
            "overflow_y": null,
            "overflow_x": null,
            "grid_auto_flow": null,
            "grid_area": null,
            "grid_template_columns": null,
            "flex": null,
            "_model_name": "LayoutModel",
            "justify_items": null,
            "grid_row": null,
            "max_height": null,
            "align_content": null,
            "visibility": null,
            "align_self": null,
            "height": null,
            "min_height": null,
            "padding": null,
            "grid_auto_rows": null,
            "grid_gap": null,
            "max_width": null,
            "order": null,
            "_view_module_version": "1.2.0",
            "grid_template_areas": null,
            "object_position": null,
            "object_fit": null,
            "grid_auto_columns": null,
            "margin": null,
            "display": null,
            "left": null
          }
        },
        "d95b107f0dbb47ee820ba51cd964b7fb": {
          "model_module": "@jupyter-widgets/controls",
          "model_name": "HTMLModel",
          "model_module_version": "1.5.0",
          "state": {
            "_view_name": "HTMLView",
            "style": "IPY_MODEL_3749e5b6367d4fbfacbc0170addc7697",
            "_dom_classes": [],
            "description": "",
            "_model_name": "HTMLModel",
            "placeholder": "​",
            "_view_module": "@jupyter-widgets/controls",
            "_model_module_version": "1.5.0",
            "value": "",
            "_view_count": null,
            "_view_module_version": "1.5.0",
            "description_tooltip": null,
            "_model_module": "@jupyter-widgets/controls",
            "layout": "IPY_MODEL_382455807f7840b1970613966348bed6"
          }
        },
        "9bda163e549647f9aa264d1a7b2e9874": {
          "model_module": "@jupyter-widgets/controls",
          "model_name": "FloatProgressModel",
          "model_module_version": "1.5.0",
          "state": {
            "_view_name": "ProgressView",
            "style": "IPY_MODEL_4c083b46004e4b48bce95e4128d3079d",
            "_dom_classes": [],
            "description": "",
            "_model_name": "FloatProgressModel",
            "bar_style": "success",
            "max": 26421880,
            "_view_module": "@jupyter-widgets/controls",
            "_model_module_version": "1.5.0",
            "value": 26421880,
            "_view_count": null,
            "_view_module_version": "1.5.0",
            "orientation": "horizontal",
            "min": 0,
            "description_tooltip": null,
            "_model_module": "@jupyter-widgets/controls",
            "layout": "IPY_MODEL_63f9c5658d1d46c8ab1d7bece9a19737"
          }
        },
        "aec4046e74c04337b505d3cffd77dc66": {
          "model_module": "@jupyter-widgets/controls",
          "model_name": "HTMLModel",
          "model_module_version": "1.5.0",
          "state": {
            "_view_name": "HTMLView",
            "style": "IPY_MODEL_d16628f62b9a44028be6e44a59b6d2ac",
            "_dom_classes": [],
            "description": "",
            "_model_name": "HTMLModel",
            "placeholder": "​",
            "_view_module": "@jupyter-widgets/controls",
            "_model_module_version": "1.5.0",
            "value": " 26422272/? [00:02&lt;00:00, 15410015.78it/s]",
            "_view_count": null,
            "_view_module_version": "1.5.0",
            "description_tooltip": null,
            "_model_module": "@jupyter-widgets/controls",
            "layout": "IPY_MODEL_18baa7b2905b47669d222ea30abc77d3"
          }
        },
        "3749e5b6367d4fbfacbc0170addc7697": {
          "model_module": "@jupyter-widgets/controls",
          "model_name": "DescriptionStyleModel",
          "model_module_version": "1.5.0",
          "state": {
            "_view_name": "StyleView",
            "_model_name": "DescriptionStyleModel",
            "description_width": "",
            "_view_module": "@jupyter-widgets/base",
            "_model_module_version": "1.5.0",
            "_view_count": null,
            "_view_module_version": "1.2.0",
            "_model_module": "@jupyter-widgets/controls"
          }
        },
        "382455807f7840b1970613966348bed6": {
          "model_module": "@jupyter-widgets/base",
          "model_name": "LayoutModel",
          "model_module_version": "1.2.0",
          "state": {
            "_view_name": "LayoutView",
            "grid_template_rows": null,
            "right": null,
            "justify_content": null,
            "_view_module": "@jupyter-widgets/base",
            "overflow": null,
            "_model_module_version": "1.2.0",
            "_view_count": null,
            "flex_flow": null,
            "width": null,
            "min_width": null,
            "border": null,
            "align_items": null,
            "bottom": null,
            "_model_module": "@jupyter-widgets/base",
            "top": null,
            "grid_column": null,
            "overflow_y": null,
            "overflow_x": null,
            "grid_auto_flow": null,
            "grid_area": null,
            "grid_template_columns": null,
            "flex": null,
            "_model_name": "LayoutModel",
            "justify_items": null,
            "grid_row": null,
            "max_height": null,
            "align_content": null,
            "visibility": null,
            "align_self": null,
            "height": null,
            "min_height": null,
            "padding": null,
            "grid_auto_rows": null,
            "grid_gap": null,
            "max_width": null,
            "order": null,
            "_view_module_version": "1.2.0",
            "grid_template_areas": null,
            "object_position": null,
            "object_fit": null,
            "grid_auto_columns": null,
            "margin": null,
            "display": null,
            "left": null
          }
        },
        "4c083b46004e4b48bce95e4128d3079d": {
          "model_module": "@jupyter-widgets/controls",
          "model_name": "ProgressStyleModel",
          "model_module_version": "1.5.0",
          "state": {
            "_view_name": "StyleView",
            "_model_name": "ProgressStyleModel",
            "description_width": "",
            "_view_module": "@jupyter-widgets/base",
            "_model_module_version": "1.5.0",
            "_view_count": null,
            "_view_module_version": "1.2.0",
            "bar_color": null,
            "_model_module": "@jupyter-widgets/controls"
          }
        },
        "63f9c5658d1d46c8ab1d7bece9a19737": {
          "model_module": "@jupyter-widgets/base",
          "model_name": "LayoutModel",
          "model_module_version": "1.2.0",
          "state": {
            "_view_name": "LayoutView",
            "grid_template_rows": null,
            "right": null,
            "justify_content": null,
            "_view_module": "@jupyter-widgets/base",
            "overflow": null,
            "_model_module_version": "1.2.0",
            "_view_count": null,
            "flex_flow": null,
            "width": null,
            "min_width": null,
            "border": null,
            "align_items": null,
            "bottom": null,
            "_model_module": "@jupyter-widgets/base",
            "top": null,
            "grid_column": null,
            "overflow_y": null,
            "overflow_x": null,
            "grid_auto_flow": null,
            "grid_area": null,
            "grid_template_columns": null,
            "flex": null,
            "_model_name": "LayoutModel",
            "justify_items": null,
            "grid_row": null,
            "max_height": null,
            "align_content": null,
            "visibility": null,
            "align_self": null,
            "height": null,
            "min_height": null,
            "padding": null,
            "grid_auto_rows": null,
            "grid_gap": null,
            "max_width": null,
            "order": null,
            "_view_module_version": "1.2.0",
            "grid_template_areas": null,
            "object_position": null,
            "object_fit": null,
            "grid_auto_columns": null,
            "margin": null,
            "display": null,
            "left": null
          }
        },
        "d16628f62b9a44028be6e44a59b6d2ac": {
          "model_module": "@jupyter-widgets/controls",
          "model_name": "DescriptionStyleModel",
          "model_module_version": "1.5.0",
          "state": {
            "_view_name": "StyleView",
            "_model_name": "DescriptionStyleModel",
            "description_width": "",
            "_view_module": "@jupyter-widgets/base",
            "_model_module_version": "1.5.0",
            "_view_count": null,
            "_view_module_version": "1.2.0",
            "_model_module": "@jupyter-widgets/controls"
          }
        },
        "18baa7b2905b47669d222ea30abc77d3": {
          "model_module": "@jupyter-widgets/base",
          "model_name": "LayoutModel",
          "model_module_version": "1.2.0",
          "state": {
            "_view_name": "LayoutView",
            "grid_template_rows": null,
            "right": null,
            "justify_content": null,
            "_view_module": "@jupyter-widgets/base",
            "overflow": null,
            "_model_module_version": "1.2.0",
            "_view_count": null,
            "flex_flow": null,
            "width": null,
            "min_width": null,
            "border": null,
            "align_items": null,
            "bottom": null,
            "_model_module": "@jupyter-widgets/base",
            "top": null,
            "grid_column": null,
            "overflow_y": null,
            "overflow_x": null,
            "grid_auto_flow": null,
            "grid_area": null,
            "grid_template_columns": null,
            "flex": null,
            "_model_name": "LayoutModel",
            "justify_items": null,
            "grid_row": null,
            "max_height": null,
            "align_content": null,
            "visibility": null,
            "align_self": null,
            "height": null,
            "min_height": null,
            "padding": null,
            "grid_auto_rows": null,
            "grid_gap": null,
            "max_width": null,
            "order": null,
            "_view_module_version": "1.2.0",
            "grid_template_areas": null,
            "object_position": null,
            "object_fit": null,
            "grid_auto_columns": null,
            "margin": null,
            "display": null,
            "left": null
          }
        },
        "98cc2e9f1fb2486f88f9cad8aa94ff9b": {
          "model_module": "@jupyter-widgets/controls",
          "model_name": "HBoxModel",
          "model_module_version": "1.5.0",
          "state": {
            "_view_name": "HBoxView",
            "_dom_classes": [],
            "_model_name": "HBoxModel",
            "_view_module": "@jupyter-widgets/controls",
            "_model_module_version": "1.5.0",
            "_view_count": null,
            "_view_module_version": "1.5.0",
            "box_style": "",
            "layout": "IPY_MODEL_0b654176c14543af82cf343f83110407",
            "_model_module": "@jupyter-widgets/controls",
            "children": [
              "IPY_MODEL_d6bbba2ae18646c789cb23a30743fa99",
              "IPY_MODEL_c31e633841824f7883b0d9dbef58a0b7",
              "IPY_MODEL_6e46a3da9daf4c1dabedcfa0010161e4"
            ]
          }
        },
        "0b654176c14543af82cf343f83110407": {
          "model_module": "@jupyter-widgets/base",
          "model_name": "LayoutModel",
          "model_module_version": "1.2.0",
          "state": {
            "_view_name": "LayoutView",
            "grid_template_rows": null,
            "right": null,
            "justify_content": null,
            "_view_module": "@jupyter-widgets/base",
            "overflow": null,
            "_model_module_version": "1.2.0",
            "_view_count": null,
            "flex_flow": null,
            "width": null,
            "min_width": null,
            "border": null,
            "align_items": null,
            "bottom": null,
            "_model_module": "@jupyter-widgets/base",
            "top": null,
            "grid_column": null,
            "overflow_y": null,
            "overflow_x": null,
            "grid_auto_flow": null,
            "grid_area": null,
            "grid_template_columns": null,
            "flex": null,
            "_model_name": "LayoutModel",
            "justify_items": null,
            "grid_row": null,
            "max_height": null,
            "align_content": null,
            "visibility": null,
            "align_self": null,
            "height": null,
            "min_height": null,
            "padding": null,
            "grid_auto_rows": null,
            "grid_gap": null,
            "max_width": null,
            "order": null,
            "_view_module_version": "1.2.0",
            "grid_template_areas": null,
            "object_position": null,
            "object_fit": null,
            "grid_auto_columns": null,
            "margin": null,
            "display": null,
            "left": null
          }
        },
        "d6bbba2ae18646c789cb23a30743fa99": {
          "model_module": "@jupyter-widgets/controls",
          "model_name": "HTMLModel",
          "model_module_version": "1.5.0",
          "state": {
            "_view_name": "HTMLView",
            "style": "IPY_MODEL_a05a854506344e7d80e0f8c204ceebc3",
            "_dom_classes": [],
            "description": "",
            "_model_name": "HTMLModel",
            "placeholder": "​",
            "_view_module": "@jupyter-widgets/controls",
            "_model_module_version": "1.5.0",
            "value": "",
            "_view_count": null,
            "_view_module_version": "1.5.0",
            "description_tooltip": null,
            "_model_module": "@jupyter-widgets/controls",
            "layout": "IPY_MODEL_8fa8d242af434ac5b523c38199e90602"
          }
        },
        "c31e633841824f7883b0d9dbef58a0b7": {
          "model_module": "@jupyter-widgets/controls",
          "model_name": "FloatProgressModel",
          "model_module_version": "1.5.0",
          "state": {
            "_view_name": "ProgressView",
            "style": "IPY_MODEL_7d87b9dd244d4623841640966a159e81",
            "_dom_classes": [],
            "description": "",
            "_model_name": "FloatProgressModel",
            "bar_style": "success",
            "max": 29515,
            "_view_module": "@jupyter-widgets/controls",
            "_model_module_version": "1.5.0",
            "value": 29515,
            "_view_count": null,
            "_view_module_version": "1.5.0",
            "orientation": "horizontal",
            "min": 0,
            "description_tooltip": null,
            "_model_module": "@jupyter-widgets/controls",
            "layout": "IPY_MODEL_2c095ccec1574749b56402e1ae5e91d0"
          }
        },
        "6e46a3da9daf4c1dabedcfa0010161e4": {
          "model_module": "@jupyter-widgets/controls",
          "model_name": "HTMLModel",
          "model_module_version": "1.5.0",
          "state": {
            "_view_name": "HTMLView",
            "style": "IPY_MODEL_3fb46beafbb449cbae8da923784c06fc",
            "_dom_classes": [],
            "description": "",
            "_model_name": "HTMLModel",
            "placeholder": "​",
            "_view_module": "@jupyter-widgets/controls",
            "_model_module_version": "1.5.0",
            "value": " 29696/? [00:00&lt;00:00, 90033.98it/s]",
            "_view_count": null,
            "_view_module_version": "1.5.0",
            "description_tooltip": null,
            "_model_module": "@jupyter-widgets/controls",
            "layout": "IPY_MODEL_ce9ff6a0826643f796801278f2b28f88"
          }
        },
        "a05a854506344e7d80e0f8c204ceebc3": {
          "model_module": "@jupyter-widgets/controls",
          "model_name": "DescriptionStyleModel",
          "model_module_version": "1.5.0",
          "state": {
            "_view_name": "StyleView",
            "_model_name": "DescriptionStyleModel",
            "description_width": "",
            "_view_module": "@jupyter-widgets/base",
            "_model_module_version": "1.5.0",
            "_view_count": null,
            "_view_module_version": "1.2.0",
            "_model_module": "@jupyter-widgets/controls"
          }
        },
        "8fa8d242af434ac5b523c38199e90602": {
          "model_module": "@jupyter-widgets/base",
          "model_name": "LayoutModel",
          "model_module_version": "1.2.0",
          "state": {
            "_view_name": "LayoutView",
            "grid_template_rows": null,
            "right": null,
            "justify_content": null,
            "_view_module": "@jupyter-widgets/base",
            "overflow": null,
            "_model_module_version": "1.2.0",
            "_view_count": null,
            "flex_flow": null,
            "width": null,
            "min_width": null,
            "border": null,
            "align_items": null,
            "bottom": null,
            "_model_module": "@jupyter-widgets/base",
            "top": null,
            "grid_column": null,
            "overflow_y": null,
            "overflow_x": null,
            "grid_auto_flow": null,
            "grid_area": null,
            "grid_template_columns": null,
            "flex": null,
            "_model_name": "LayoutModel",
            "justify_items": null,
            "grid_row": null,
            "max_height": null,
            "align_content": null,
            "visibility": null,
            "align_self": null,
            "height": null,
            "min_height": null,
            "padding": null,
            "grid_auto_rows": null,
            "grid_gap": null,
            "max_width": null,
            "order": null,
            "_view_module_version": "1.2.0",
            "grid_template_areas": null,
            "object_position": null,
            "object_fit": null,
            "grid_auto_columns": null,
            "margin": null,
            "display": null,
            "left": null
          }
        },
        "7d87b9dd244d4623841640966a159e81": {
          "model_module": "@jupyter-widgets/controls",
          "model_name": "ProgressStyleModel",
          "model_module_version": "1.5.0",
          "state": {
            "_view_name": "StyleView",
            "_model_name": "ProgressStyleModel",
            "description_width": "",
            "_view_module": "@jupyter-widgets/base",
            "_model_module_version": "1.5.0",
            "_view_count": null,
            "_view_module_version": "1.2.0",
            "bar_color": null,
            "_model_module": "@jupyter-widgets/controls"
          }
        },
        "2c095ccec1574749b56402e1ae5e91d0": {
          "model_module": "@jupyter-widgets/base",
          "model_name": "LayoutModel",
          "model_module_version": "1.2.0",
          "state": {
            "_view_name": "LayoutView",
            "grid_template_rows": null,
            "right": null,
            "justify_content": null,
            "_view_module": "@jupyter-widgets/base",
            "overflow": null,
            "_model_module_version": "1.2.0",
            "_view_count": null,
            "flex_flow": null,
            "width": null,
            "min_width": null,
            "border": null,
            "align_items": null,
            "bottom": null,
            "_model_module": "@jupyter-widgets/base",
            "top": null,
            "grid_column": null,
            "overflow_y": null,
            "overflow_x": null,
            "grid_auto_flow": null,
            "grid_area": null,
            "grid_template_columns": null,
            "flex": null,
            "_model_name": "LayoutModel",
            "justify_items": null,
            "grid_row": null,
            "max_height": null,
            "align_content": null,
            "visibility": null,
            "align_self": null,
            "height": null,
            "min_height": null,
            "padding": null,
            "grid_auto_rows": null,
            "grid_gap": null,
            "max_width": null,
            "order": null,
            "_view_module_version": "1.2.0",
            "grid_template_areas": null,
            "object_position": null,
            "object_fit": null,
            "grid_auto_columns": null,
            "margin": null,
            "display": null,
            "left": null
          }
        },
        "3fb46beafbb449cbae8da923784c06fc": {
          "model_module": "@jupyter-widgets/controls",
          "model_name": "DescriptionStyleModel",
          "model_module_version": "1.5.0",
          "state": {
            "_view_name": "StyleView",
            "_model_name": "DescriptionStyleModel",
            "description_width": "",
            "_view_module": "@jupyter-widgets/base",
            "_model_module_version": "1.5.0",
            "_view_count": null,
            "_view_module_version": "1.2.0",
            "_model_module": "@jupyter-widgets/controls"
          }
        },
        "ce9ff6a0826643f796801278f2b28f88": {
          "model_module": "@jupyter-widgets/base",
          "model_name": "LayoutModel",
          "model_module_version": "1.2.0",
          "state": {
            "_view_name": "LayoutView",
            "grid_template_rows": null,
            "right": null,
            "justify_content": null,
            "_view_module": "@jupyter-widgets/base",
            "overflow": null,
            "_model_module_version": "1.2.0",
            "_view_count": null,
            "flex_flow": null,
            "width": null,
            "min_width": null,
            "border": null,
            "align_items": null,
            "bottom": null,
            "_model_module": "@jupyter-widgets/base",
            "top": null,
            "grid_column": null,
            "overflow_y": null,
            "overflow_x": null,
            "grid_auto_flow": null,
            "grid_area": null,
            "grid_template_columns": null,
            "flex": null,
            "_model_name": "LayoutModel",
            "justify_items": null,
            "grid_row": null,
            "max_height": null,
            "align_content": null,
            "visibility": null,
            "align_self": null,
            "height": null,
            "min_height": null,
            "padding": null,
            "grid_auto_rows": null,
            "grid_gap": null,
            "max_width": null,
            "order": null,
            "_view_module_version": "1.2.0",
            "grid_template_areas": null,
            "object_position": null,
            "object_fit": null,
            "grid_auto_columns": null,
            "margin": null,
            "display": null,
            "left": null
          }
        },
        "a5eb350cf45c4cdca9611a69cbf28bbc": {
          "model_module": "@jupyter-widgets/controls",
          "model_name": "HBoxModel",
          "model_module_version": "1.5.0",
          "state": {
            "_view_name": "HBoxView",
            "_dom_classes": [],
            "_model_name": "HBoxModel",
            "_view_module": "@jupyter-widgets/controls",
            "_model_module_version": "1.5.0",
            "_view_count": null,
            "_view_module_version": "1.5.0",
            "box_style": "",
            "layout": "IPY_MODEL_c162cc3bc85a4dbf8e6ebb084a8e1ae9",
            "_model_module": "@jupyter-widgets/controls",
            "children": [
              "IPY_MODEL_25538a8f5a4d41f0aacb5ccf71421ee9",
              "IPY_MODEL_bf43833a48454e7fb163707add70d437",
              "IPY_MODEL_3ebf94d14a784a9f9e24dfd962cb8278"
            ]
          }
        },
        "c162cc3bc85a4dbf8e6ebb084a8e1ae9": {
          "model_module": "@jupyter-widgets/base",
          "model_name": "LayoutModel",
          "model_module_version": "1.2.0",
          "state": {
            "_view_name": "LayoutView",
            "grid_template_rows": null,
            "right": null,
            "justify_content": null,
            "_view_module": "@jupyter-widgets/base",
            "overflow": null,
            "_model_module_version": "1.2.0",
            "_view_count": null,
            "flex_flow": null,
            "width": null,
            "min_width": null,
            "border": null,
            "align_items": null,
            "bottom": null,
            "_model_module": "@jupyter-widgets/base",
            "top": null,
            "grid_column": null,
            "overflow_y": null,
            "overflow_x": null,
            "grid_auto_flow": null,
            "grid_area": null,
            "grid_template_columns": null,
            "flex": null,
            "_model_name": "LayoutModel",
            "justify_items": null,
            "grid_row": null,
            "max_height": null,
            "align_content": null,
            "visibility": null,
            "align_self": null,
            "height": null,
            "min_height": null,
            "padding": null,
            "grid_auto_rows": null,
            "grid_gap": null,
            "max_width": null,
            "order": null,
            "_view_module_version": "1.2.0",
            "grid_template_areas": null,
            "object_position": null,
            "object_fit": null,
            "grid_auto_columns": null,
            "margin": null,
            "display": null,
            "left": null
          }
        },
        "25538a8f5a4d41f0aacb5ccf71421ee9": {
          "model_module": "@jupyter-widgets/controls",
          "model_name": "HTMLModel",
          "model_module_version": "1.5.0",
          "state": {
            "_view_name": "HTMLView",
            "style": "IPY_MODEL_b084933712564755a5500a69d6bef8a1",
            "_dom_classes": [],
            "description": "",
            "_model_name": "HTMLModel",
            "placeholder": "​",
            "_view_module": "@jupyter-widgets/controls",
            "_model_module_version": "1.5.0",
            "value": "",
            "_view_count": null,
            "_view_module_version": "1.5.0",
            "description_tooltip": null,
            "_model_module": "@jupyter-widgets/controls",
            "layout": "IPY_MODEL_468ef52c246c4c2bb17a6f2e5418a8ac"
          }
        },
        "bf43833a48454e7fb163707add70d437": {
          "model_module": "@jupyter-widgets/controls",
          "model_name": "FloatProgressModel",
          "model_module_version": "1.5.0",
          "state": {
            "_view_name": "ProgressView",
            "style": "IPY_MODEL_4d92287b395e4bd5ac1731f061503182",
            "_dom_classes": [],
            "description": "",
            "_model_name": "FloatProgressModel",
            "bar_style": "success",
            "max": 4422102,
            "_view_module": "@jupyter-widgets/controls",
            "_model_module_version": "1.5.0",
            "value": 4422102,
            "_view_count": null,
            "_view_module_version": "1.5.0",
            "orientation": "horizontal",
            "min": 0,
            "description_tooltip": null,
            "_model_module": "@jupyter-widgets/controls",
            "layout": "IPY_MODEL_9768154cf22046d38635ff395391f12a"
          }
        },
        "3ebf94d14a784a9f9e24dfd962cb8278": {
          "model_module": "@jupyter-widgets/controls",
          "model_name": "HTMLModel",
          "model_module_version": "1.5.0",
          "state": {
            "_view_name": "HTMLView",
            "style": "IPY_MODEL_c206114b65e148d9a0f3c7b95aa40057",
            "_dom_classes": [],
            "description": "",
            "_model_name": "HTMLModel",
            "placeholder": "​",
            "_view_module": "@jupyter-widgets/controls",
            "_model_module_version": "1.5.0",
            "value": " 4422656/? [00:01&lt;00:00, 5831992.89it/s]",
            "_view_count": null,
            "_view_module_version": "1.5.0",
            "description_tooltip": null,
            "_model_module": "@jupyter-widgets/controls",
            "layout": "IPY_MODEL_7e80650263b947bd8c64c8ffe7055e07"
          }
        },
        "b084933712564755a5500a69d6bef8a1": {
          "model_module": "@jupyter-widgets/controls",
          "model_name": "DescriptionStyleModel",
          "model_module_version": "1.5.0",
          "state": {
            "_view_name": "StyleView",
            "_model_name": "DescriptionStyleModel",
            "description_width": "",
            "_view_module": "@jupyter-widgets/base",
            "_model_module_version": "1.5.0",
            "_view_count": null,
            "_view_module_version": "1.2.0",
            "_model_module": "@jupyter-widgets/controls"
          }
        },
        "468ef52c246c4c2bb17a6f2e5418a8ac": {
          "model_module": "@jupyter-widgets/base",
          "model_name": "LayoutModel",
          "model_module_version": "1.2.0",
          "state": {
            "_view_name": "LayoutView",
            "grid_template_rows": null,
            "right": null,
            "justify_content": null,
            "_view_module": "@jupyter-widgets/base",
            "overflow": null,
            "_model_module_version": "1.2.0",
            "_view_count": null,
            "flex_flow": null,
            "width": null,
            "min_width": null,
            "border": null,
            "align_items": null,
            "bottom": null,
            "_model_module": "@jupyter-widgets/base",
            "top": null,
            "grid_column": null,
            "overflow_y": null,
            "overflow_x": null,
            "grid_auto_flow": null,
            "grid_area": null,
            "grid_template_columns": null,
            "flex": null,
            "_model_name": "LayoutModel",
            "justify_items": null,
            "grid_row": null,
            "max_height": null,
            "align_content": null,
            "visibility": null,
            "align_self": null,
            "height": null,
            "min_height": null,
            "padding": null,
            "grid_auto_rows": null,
            "grid_gap": null,
            "max_width": null,
            "order": null,
            "_view_module_version": "1.2.0",
            "grid_template_areas": null,
            "object_position": null,
            "object_fit": null,
            "grid_auto_columns": null,
            "margin": null,
            "display": null,
            "left": null
          }
        },
        "4d92287b395e4bd5ac1731f061503182": {
          "model_module": "@jupyter-widgets/controls",
          "model_name": "ProgressStyleModel",
          "model_module_version": "1.5.0",
          "state": {
            "_view_name": "StyleView",
            "_model_name": "ProgressStyleModel",
            "description_width": "",
            "_view_module": "@jupyter-widgets/base",
            "_model_module_version": "1.5.0",
            "_view_count": null,
            "_view_module_version": "1.2.0",
            "bar_color": null,
            "_model_module": "@jupyter-widgets/controls"
          }
        },
        "9768154cf22046d38635ff395391f12a": {
          "model_module": "@jupyter-widgets/base",
          "model_name": "LayoutModel",
          "model_module_version": "1.2.0",
          "state": {
            "_view_name": "LayoutView",
            "grid_template_rows": null,
            "right": null,
            "justify_content": null,
            "_view_module": "@jupyter-widgets/base",
            "overflow": null,
            "_model_module_version": "1.2.0",
            "_view_count": null,
            "flex_flow": null,
            "width": null,
            "min_width": null,
            "border": null,
            "align_items": null,
            "bottom": null,
            "_model_module": "@jupyter-widgets/base",
            "top": null,
            "grid_column": null,
            "overflow_y": null,
            "overflow_x": null,
            "grid_auto_flow": null,
            "grid_area": null,
            "grid_template_columns": null,
            "flex": null,
            "_model_name": "LayoutModel",
            "justify_items": null,
            "grid_row": null,
            "max_height": null,
            "align_content": null,
            "visibility": null,
            "align_self": null,
            "height": null,
            "min_height": null,
            "padding": null,
            "grid_auto_rows": null,
            "grid_gap": null,
            "max_width": null,
            "order": null,
            "_view_module_version": "1.2.0",
            "grid_template_areas": null,
            "object_position": null,
            "object_fit": null,
            "grid_auto_columns": null,
            "margin": null,
            "display": null,
            "left": null
          }
        },
        "c206114b65e148d9a0f3c7b95aa40057": {
          "model_module": "@jupyter-widgets/controls",
          "model_name": "DescriptionStyleModel",
          "model_module_version": "1.5.0",
          "state": {
            "_view_name": "StyleView",
            "_model_name": "DescriptionStyleModel",
            "description_width": "",
            "_view_module": "@jupyter-widgets/base",
            "_model_module_version": "1.5.0",
            "_view_count": null,
            "_view_module_version": "1.2.0",
            "_model_module": "@jupyter-widgets/controls"
          }
        },
        "7e80650263b947bd8c64c8ffe7055e07": {
          "model_module": "@jupyter-widgets/base",
          "model_name": "LayoutModel",
          "model_module_version": "1.2.0",
          "state": {
            "_view_name": "LayoutView",
            "grid_template_rows": null,
            "right": null,
            "justify_content": null,
            "_view_module": "@jupyter-widgets/base",
            "overflow": null,
            "_model_module_version": "1.2.0",
            "_view_count": null,
            "flex_flow": null,
            "width": null,
            "min_width": null,
            "border": null,
            "align_items": null,
            "bottom": null,
            "_model_module": "@jupyter-widgets/base",
            "top": null,
            "grid_column": null,
            "overflow_y": null,
            "overflow_x": null,
            "grid_auto_flow": null,
            "grid_area": null,
            "grid_template_columns": null,
            "flex": null,
            "_model_name": "LayoutModel",
            "justify_items": null,
            "grid_row": null,
            "max_height": null,
            "align_content": null,
            "visibility": null,
            "align_self": null,
            "height": null,
            "min_height": null,
            "padding": null,
            "grid_auto_rows": null,
            "grid_gap": null,
            "max_width": null,
            "order": null,
            "_view_module_version": "1.2.0",
            "grid_template_areas": null,
            "object_position": null,
            "object_fit": null,
            "grid_auto_columns": null,
            "margin": null,
            "display": null,
            "left": null
          }
        },
        "17fde79797ea4d838eaa28b61a22ea2e": {
          "model_module": "@jupyter-widgets/controls",
          "model_name": "HBoxModel",
          "model_module_version": "1.5.0",
          "state": {
            "_view_name": "HBoxView",
            "_dom_classes": [],
            "_model_name": "HBoxModel",
            "_view_module": "@jupyter-widgets/controls",
            "_model_module_version": "1.5.0",
            "_view_count": null,
            "_view_module_version": "1.5.0",
            "box_style": "",
            "layout": "IPY_MODEL_ea90d64fc0464d6b8a5fa8e5f89d5575",
            "_model_module": "@jupyter-widgets/controls",
            "children": [
              "IPY_MODEL_c1ab195721704e30bc97eca577b3d921",
              "IPY_MODEL_a0f1c9144d1f4250a908c402f3686732",
              "IPY_MODEL_dae23edfe22e44869d3d63de2bf8e464"
            ]
          }
        },
        "ea90d64fc0464d6b8a5fa8e5f89d5575": {
          "model_module": "@jupyter-widgets/base",
          "model_name": "LayoutModel",
          "model_module_version": "1.2.0",
          "state": {
            "_view_name": "LayoutView",
            "grid_template_rows": null,
            "right": null,
            "justify_content": null,
            "_view_module": "@jupyter-widgets/base",
            "overflow": null,
            "_model_module_version": "1.2.0",
            "_view_count": null,
            "flex_flow": null,
            "width": null,
            "min_width": null,
            "border": null,
            "align_items": null,
            "bottom": null,
            "_model_module": "@jupyter-widgets/base",
            "top": null,
            "grid_column": null,
            "overflow_y": null,
            "overflow_x": null,
            "grid_auto_flow": null,
            "grid_area": null,
            "grid_template_columns": null,
            "flex": null,
            "_model_name": "LayoutModel",
            "justify_items": null,
            "grid_row": null,
            "max_height": null,
            "align_content": null,
            "visibility": null,
            "align_self": null,
            "height": null,
            "min_height": null,
            "padding": null,
            "grid_auto_rows": null,
            "grid_gap": null,
            "max_width": null,
            "order": null,
            "_view_module_version": "1.2.0",
            "grid_template_areas": null,
            "object_position": null,
            "object_fit": null,
            "grid_auto_columns": null,
            "margin": null,
            "display": null,
            "left": null
          }
        },
        "c1ab195721704e30bc97eca577b3d921": {
          "model_module": "@jupyter-widgets/controls",
          "model_name": "HTMLModel",
          "model_module_version": "1.5.0",
          "state": {
            "_view_name": "HTMLView",
            "style": "IPY_MODEL_674966abbb63494cb09887349cc58d6c",
            "_dom_classes": [],
            "description": "",
            "_model_name": "HTMLModel",
            "placeholder": "​",
            "_view_module": "@jupyter-widgets/controls",
            "_model_module_version": "1.5.0",
            "value": "",
            "_view_count": null,
            "_view_module_version": "1.5.0",
            "description_tooltip": null,
            "_model_module": "@jupyter-widgets/controls",
            "layout": "IPY_MODEL_89d8b6e05aa84d9eb2ef9fd4271bcfa7"
          }
        },
        "a0f1c9144d1f4250a908c402f3686732": {
          "model_module": "@jupyter-widgets/controls",
          "model_name": "FloatProgressModel",
          "model_module_version": "1.5.0",
          "state": {
            "_view_name": "ProgressView",
            "style": "IPY_MODEL_ba0d71ad02bc4b4f8961094137647e08",
            "_dom_classes": [],
            "description": "",
            "_model_name": "FloatProgressModel",
            "bar_style": "success",
            "max": 5148,
            "_view_module": "@jupyter-widgets/controls",
            "_model_module_version": "1.5.0",
            "value": 5148,
            "_view_count": null,
            "_view_module_version": "1.5.0",
            "orientation": "horizontal",
            "min": 0,
            "description_tooltip": null,
            "_model_module": "@jupyter-widgets/controls",
            "layout": "IPY_MODEL_27bb0163ed5540658938621539e6d6e5"
          }
        },
        "dae23edfe22e44869d3d63de2bf8e464": {
          "model_module": "@jupyter-widgets/controls",
          "model_name": "HTMLModel",
          "model_module_version": "1.5.0",
          "state": {
            "_view_name": "HTMLView",
            "style": "IPY_MODEL_efd5b897d0204446ae49f75b7c3dc567",
            "_dom_classes": [],
            "description": "",
            "_model_name": "HTMLModel",
            "placeholder": "​",
            "_view_module": "@jupyter-widgets/controls",
            "_model_module_version": "1.5.0",
            "value": " 6144/? [00:00&lt;00:00, 126209.35it/s]",
            "_view_count": null,
            "_view_module_version": "1.5.0",
            "description_tooltip": null,
            "_model_module": "@jupyter-widgets/controls",
            "layout": "IPY_MODEL_43875698bb6d4534b63cb3ede4247d59"
          }
        },
        "674966abbb63494cb09887349cc58d6c": {
          "model_module": "@jupyter-widgets/controls",
          "model_name": "DescriptionStyleModel",
          "model_module_version": "1.5.0",
          "state": {
            "_view_name": "StyleView",
            "_model_name": "DescriptionStyleModel",
            "description_width": "",
            "_view_module": "@jupyter-widgets/base",
            "_model_module_version": "1.5.0",
            "_view_count": null,
            "_view_module_version": "1.2.0",
            "_model_module": "@jupyter-widgets/controls"
          }
        },
        "89d8b6e05aa84d9eb2ef9fd4271bcfa7": {
          "model_module": "@jupyter-widgets/base",
          "model_name": "LayoutModel",
          "model_module_version": "1.2.0",
          "state": {
            "_view_name": "LayoutView",
            "grid_template_rows": null,
            "right": null,
            "justify_content": null,
            "_view_module": "@jupyter-widgets/base",
            "overflow": null,
            "_model_module_version": "1.2.0",
            "_view_count": null,
            "flex_flow": null,
            "width": null,
            "min_width": null,
            "border": null,
            "align_items": null,
            "bottom": null,
            "_model_module": "@jupyter-widgets/base",
            "top": null,
            "grid_column": null,
            "overflow_y": null,
            "overflow_x": null,
            "grid_auto_flow": null,
            "grid_area": null,
            "grid_template_columns": null,
            "flex": null,
            "_model_name": "LayoutModel",
            "justify_items": null,
            "grid_row": null,
            "max_height": null,
            "align_content": null,
            "visibility": null,
            "align_self": null,
            "height": null,
            "min_height": null,
            "padding": null,
            "grid_auto_rows": null,
            "grid_gap": null,
            "max_width": null,
            "order": null,
            "_view_module_version": "1.2.0",
            "grid_template_areas": null,
            "object_position": null,
            "object_fit": null,
            "grid_auto_columns": null,
            "margin": null,
            "display": null,
            "left": null
          }
        },
        "ba0d71ad02bc4b4f8961094137647e08": {
          "model_module": "@jupyter-widgets/controls",
          "model_name": "ProgressStyleModel",
          "model_module_version": "1.5.0",
          "state": {
            "_view_name": "StyleView",
            "_model_name": "ProgressStyleModel",
            "description_width": "",
            "_view_module": "@jupyter-widgets/base",
            "_model_module_version": "1.5.0",
            "_view_count": null,
            "_view_module_version": "1.2.0",
            "bar_color": null,
            "_model_module": "@jupyter-widgets/controls"
          }
        },
        "27bb0163ed5540658938621539e6d6e5": {
          "model_module": "@jupyter-widgets/base",
          "model_name": "LayoutModel",
          "model_module_version": "1.2.0",
          "state": {
            "_view_name": "LayoutView",
            "grid_template_rows": null,
            "right": null,
            "justify_content": null,
            "_view_module": "@jupyter-widgets/base",
            "overflow": null,
            "_model_module_version": "1.2.0",
            "_view_count": null,
            "flex_flow": null,
            "width": null,
            "min_width": null,
            "border": null,
            "align_items": null,
            "bottom": null,
            "_model_module": "@jupyter-widgets/base",
            "top": null,
            "grid_column": null,
            "overflow_y": null,
            "overflow_x": null,
            "grid_auto_flow": null,
            "grid_area": null,
            "grid_template_columns": null,
            "flex": null,
            "_model_name": "LayoutModel",
            "justify_items": null,
            "grid_row": null,
            "max_height": null,
            "align_content": null,
            "visibility": null,
            "align_self": null,
            "height": null,
            "min_height": null,
            "padding": null,
            "grid_auto_rows": null,
            "grid_gap": null,
            "max_width": null,
            "order": null,
            "_view_module_version": "1.2.0",
            "grid_template_areas": null,
            "object_position": null,
            "object_fit": null,
            "grid_auto_columns": null,
            "margin": null,
            "display": null,
            "left": null
          }
        },
        "efd5b897d0204446ae49f75b7c3dc567": {
          "model_module": "@jupyter-widgets/controls",
          "model_name": "DescriptionStyleModel",
          "model_module_version": "1.5.0",
          "state": {
            "_view_name": "StyleView",
            "_model_name": "DescriptionStyleModel",
            "description_width": "",
            "_view_module": "@jupyter-widgets/base",
            "_model_module_version": "1.5.0",
            "_view_count": null,
            "_view_module_version": "1.2.0",
            "_model_module": "@jupyter-widgets/controls"
          }
        },
        "43875698bb6d4534b63cb3ede4247d59": {
          "model_module": "@jupyter-widgets/base",
          "model_name": "LayoutModel",
          "model_module_version": "1.2.0",
          "state": {
            "_view_name": "LayoutView",
            "grid_template_rows": null,
            "right": null,
            "justify_content": null,
            "_view_module": "@jupyter-widgets/base",
            "overflow": null,
            "_model_module_version": "1.2.0",
            "_view_count": null,
            "flex_flow": null,
            "width": null,
            "min_width": null,
            "border": null,
            "align_items": null,
            "bottom": null,
            "_model_module": "@jupyter-widgets/base",
            "top": null,
            "grid_column": null,
            "overflow_y": null,
            "overflow_x": null,
            "grid_auto_flow": null,
            "grid_area": null,
            "grid_template_columns": null,
            "flex": null,
            "_model_name": "LayoutModel",
            "justify_items": null,
            "grid_row": null,
            "max_height": null,
            "align_content": null,
            "visibility": null,
            "align_self": null,
            "height": null,
            "min_height": null,
            "padding": null,
            "grid_auto_rows": null,
            "grid_gap": null,
            "max_width": null,
            "order": null,
            "_view_module_version": "1.2.0",
            "grid_template_areas": null,
            "object_position": null,
            "object_fit": null,
            "grid_auto_columns": null,
            "margin": null,
            "display": null,
            "left": null
          }
        }
      }
    }
  },
  "cells": [
    {
      "cell_type": "markdown",
      "metadata": {
        "id": "view-in-github",
        "colab_type": "text"
      },
      "source": [
        "<a href=\"https://colab.research.google.com/github/AhzamAhmed6/FashionMNIST-using-CNN/blob/main/27PyTorch_CNN_Fashion_MNIST.ipynb\" target=\"_parent\"><img src=\"https://colab.research.google.com/assets/colab-badge.svg\" alt=\"Open In Colab\"/></a>"
      ]
    },
    {
      "cell_type": "code",
      "metadata": {
        "id": "qvPI7wnlJcjK"
      },
      "source": [
        "import torch.nn as nn\n",
        "import torch\n",
        "import matplotlib.pyplot as plt\n",
        "import numpy as np\n",
        "import torchvision\n",
        "import torchvision.transforms as transforms"
      ],
      "execution_count": 1,
      "outputs": []
    },
    {
      "cell_type": "code",
      "metadata": {
        "id": "4hRU9cOsJ3eG",
        "colab": {
          "base_uri": "https://localhost:8080/",
          "height": 440,
          "referenced_widgets": [
            "d07dc5b434aa4b829a027a902a1cbf76",
            "03b22e8c1a8648e4af003de4d54df2ca",
            "d95b107f0dbb47ee820ba51cd964b7fb",
            "9bda163e549647f9aa264d1a7b2e9874",
            "aec4046e74c04337b505d3cffd77dc66",
            "3749e5b6367d4fbfacbc0170addc7697",
            "382455807f7840b1970613966348bed6",
            "4c083b46004e4b48bce95e4128d3079d",
            "63f9c5658d1d46c8ab1d7bece9a19737",
            "d16628f62b9a44028be6e44a59b6d2ac",
            "18baa7b2905b47669d222ea30abc77d3",
            "98cc2e9f1fb2486f88f9cad8aa94ff9b",
            "0b654176c14543af82cf343f83110407",
            "d6bbba2ae18646c789cb23a30743fa99",
            "c31e633841824f7883b0d9dbef58a0b7",
            "6e46a3da9daf4c1dabedcfa0010161e4",
            "a05a854506344e7d80e0f8c204ceebc3",
            "8fa8d242af434ac5b523c38199e90602",
            "7d87b9dd244d4623841640966a159e81",
            "2c095ccec1574749b56402e1ae5e91d0",
            "3fb46beafbb449cbae8da923784c06fc",
            "ce9ff6a0826643f796801278f2b28f88",
            "a5eb350cf45c4cdca9611a69cbf28bbc",
            "c162cc3bc85a4dbf8e6ebb084a8e1ae9",
            "25538a8f5a4d41f0aacb5ccf71421ee9",
            "bf43833a48454e7fb163707add70d437",
            "3ebf94d14a784a9f9e24dfd962cb8278",
            "b084933712564755a5500a69d6bef8a1",
            "468ef52c246c4c2bb17a6f2e5418a8ac",
            "4d92287b395e4bd5ac1731f061503182",
            "9768154cf22046d38635ff395391f12a",
            "c206114b65e148d9a0f3c7b95aa40057",
            "7e80650263b947bd8c64c8ffe7055e07",
            "17fde79797ea4d838eaa28b61a22ea2e",
            "ea90d64fc0464d6b8a5fa8e5f89d5575",
            "c1ab195721704e30bc97eca577b3d921",
            "a0f1c9144d1f4250a908c402f3686732",
            "dae23edfe22e44869d3d63de2bf8e464",
            "674966abbb63494cb09887349cc58d6c",
            "89d8b6e05aa84d9eb2ef9fd4271bcfa7",
            "ba0d71ad02bc4b4f8961094137647e08",
            "27bb0163ed5540658938621539e6d6e5",
            "efd5b897d0204446ae49f75b7c3dc567",
            "43875698bb6d4534b63cb3ede4247d59"
          ]
        },
        "outputId": "ce84c355-9d31-4346-fbdb-24f3f5855fba"
      },
      "source": [
        "train_dataset = torchvision.datasets.FashionMNIST(\n",
        "    root='.',\n",
        "    download=True,\n",
        "    train=True,\n",
        "    transform=transforms.ToTensor()\n",
        ")"
      ],
      "execution_count": 2,
      "outputs": [
        {
          "output_type": "stream",
          "name": "stdout",
          "text": [
            "Downloading http://fashion-mnist.s3-website.eu-central-1.amazonaws.com/train-images-idx3-ubyte.gz\n",
            "Downloading http://fashion-mnist.s3-website.eu-central-1.amazonaws.com/train-images-idx3-ubyte.gz to ./FashionMNIST/raw/train-images-idx3-ubyte.gz\n"
          ]
        },
        {
          "output_type": "display_data",
          "data": {
            "application/vnd.jupyter.widget-view+json": {
              "model_id": "d07dc5b434aa4b829a027a902a1cbf76",
              "version_minor": 0,
              "version_major": 2
            },
            "text/plain": [
              "  0%|          | 0/26421880 [00:00<?, ?it/s]"
            ]
          },
          "metadata": {}
        },
        {
          "output_type": "stream",
          "name": "stdout",
          "text": [
            "Extracting ./FashionMNIST/raw/train-images-idx3-ubyte.gz to ./FashionMNIST/raw\n",
            "\n",
            "Downloading http://fashion-mnist.s3-website.eu-central-1.amazonaws.com/train-labels-idx1-ubyte.gz\n",
            "Downloading http://fashion-mnist.s3-website.eu-central-1.amazonaws.com/train-labels-idx1-ubyte.gz to ./FashionMNIST/raw/train-labels-idx1-ubyte.gz\n"
          ]
        },
        {
          "output_type": "display_data",
          "data": {
            "application/vnd.jupyter.widget-view+json": {
              "model_id": "98cc2e9f1fb2486f88f9cad8aa94ff9b",
              "version_minor": 0,
              "version_major": 2
            },
            "text/plain": [
              "  0%|          | 0/29515 [00:00<?, ?it/s]"
            ]
          },
          "metadata": {}
        },
        {
          "output_type": "stream",
          "name": "stdout",
          "text": [
            "Extracting ./FashionMNIST/raw/train-labels-idx1-ubyte.gz to ./FashionMNIST/raw\n",
            "\n",
            "Downloading http://fashion-mnist.s3-website.eu-central-1.amazonaws.com/t10k-images-idx3-ubyte.gz\n",
            "Downloading http://fashion-mnist.s3-website.eu-central-1.amazonaws.com/t10k-images-idx3-ubyte.gz to ./FashionMNIST/raw/t10k-images-idx3-ubyte.gz\n"
          ]
        },
        {
          "output_type": "display_data",
          "data": {
            "application/vnd.jupyter.widget-view+json": {
              "model_id": "a5eb350cf45c4cdca9611a69cbf28bbc",
              "version_minor": 0,
              "version_major": 2
            },
            "text/plain": [
              "  0%|          | 0/4422102 [00:00<?, ?it/s]"
            ]
          },
          "metadata": {}
        },
        {
          "output_type": "stream",
          "name": "stdout",
          "text": [
            "Extracting ./FashionMNIST/raw/t10k-images-idx3-ubyte.gz to ./FashionMNIST/raw\n",
            "\n",
            "Downloading http://fashion-mnist.s3-website.eu-central-1.amazonaws.com/t10k-labels-idx1-ubyte.gz\n",
            "Downloading http://fashion-mnist.s3-website.eu-central-1.amazonaws.com/t10k-labels-idx1-ubyte.gz to ./FashionMNIST/raw/t10k-labels-idx1-ubyte.gz\n"
          ]
        },
        {
          "output_type": "display_data",
          "data": {
            "application/vnd.jupyter.widget-view+json": {
              "model_id": "17fde79797ea4d838eaa28b61a22ea2e",
              "version_minor": 0,
              "version_major": 2
            },
            "text/plain": [
              "  0%|          | 0/5148 [00:00<?, ?it/s]"
            ]
          },
          "metadata": {}
        },
        {
          "output_type": "stream",
          "name": "stdout",
          "text": [
            "Extracting ./FashionMNIST/raw/t10k-labels-idx1-ubyte.gz to ./FashionMNIST/raw\n",
            "\n"
          ]
        }
      ]
    },
    {
      "cell_type": "code",
      "metadata": {
        "id": "iVKAvp-8Kmdw"
      },
      "source": [
        "test_dataset = torchvision.datasets.FashionMNIST(\n",
        "    root='.',\n",
        "    download=True,\n",
        "    train=False,\n",
        "    transform=transforms.ToTensor()\n",
        ")"
      ],
      "execution_count": 3,
      "outputs": []
    },
    {
      "cell_type": "code",
      "metadata": {
        "id": "J9K0pWaAc2qr"
      },
      "source": [
        ""
      ],
      "execution_count": 3,
      "outputs": []
    },
    {
      "cell_type": "code",
      "metadata": {
        "colab": {
          "base_uri": "https://localhost:8080/"
        },
        "id": "Rg_ZqcntcvGv",
        "outputId": "4a0ce820-0218-424b-fa1c-543099e9404e"
      },
      "source": [
        "train_dataset.data.shape"
      ],
      "execution_count": 4,
      "outputs": [
        {
          "output_type": "execute_result",
          "data": {
            "text/plain": [
              "torch.Size([60000, 28, 28])"
            ]
          },
          "metadata": {},
          "execution_count": 4
        }
      ]
    },
    {
      "cell_type": "code",
      "metadata": {
        "colab": {
          "base_uri": "https://localhost:8080/",
          "height": 264
        },
        "id": "mhc6_KBLL2xo",
        "outputId": "c32beb16-1edd-4b99-84c2-0c7a9a998a48"
      },
      "source": [
        "plt.imshow(train_dataset.data[0], cmap='gray');"
      ],
      "execution_count": 5,
      "outputs": [
        {
          "output_type": "display_data",
          "data": {
            "image/png": "[encoded data removed]",
            "text/plain": [
              "<Figure size 432x288 with 1 Axes>"
            ]
          },
          "metadata": {
            "needs_background": "light"
          }
        }
      ]
    },
    {
      "cell_type": "code",
      "metadata": {
        "colab": {
          "base_uri": "https://localhost:8080/",
          "height": 264
        },
        "id": "nhhHhxUcNVGI",
        "outputId": "f87d2dab-f288-4745-9f4b-2fbef95eb02f"
      },
      "source": [
        "plt.imshow(test_dataset.data[0], cmap='gray');"
      ],
      "execution_count": 6,
      "outputs": [
        {
          "output_type": "display_data",
          "data": {
            "image/png": "[encoded data removed]",
            "text/plain": [
              "<Figure size 432x288 with 1 Axes>"
            ]
          },
          "metadata": {
            "needs_background": "light"
          }
        }
      ]
    },
    {
      "cell_type": "code",
      "metadata": {
        "colab": {
          "base_uri": "https://localhost:8080/"
        },
        "id": "xsYQWU9PSUxQ",
        "outputId": "0be82a27-cd5c-43e8-a561-7d81c7a7a2ba"
      },
      "source": [
        "train_dataset.data.shape"
      ],
      "execution_count": 7,
      "outputs": [
        {
          "output_type": "execute_result",
          "data": {
            "text/plain": [
              "torch.Size([60000, 28, 28])"
            ]
          },
          "metadata": {},
          "execution_count": 7
        }
      ]
    },
    {
      "cell_type": "code",
      "metadata": {
        "id": "tt8KYUOYSeZn"
      },
      "source": [
        "K = len(set(train_dataset.targets.numpy()))\n",
        "N = len(train_dataset.targets)\n",
        "D = 28*28"
      ],
      "execution_count": 8,
      "outputs": []
    },
    {
      "cell_type": "code",
      "metadata": {
        "id": "X89knffZiqEv"
      },
      "source": [
        "batch_size=128\n",
        "train_loader = torch.utils.data.DataLoader(train_dataset,\n",
        "                                           batch_size=batch_size,\n",
        "                                           shuffle=True)\n",
        "test_loader = torch.utils.data.DataLoader(test_dataset,\n",
        "                                           batch_size=batch_size,\n",
        "                                           shuffle=False)"
      ],
      "execution_count": 9,
      "outputs": []
    },
    {
      "cell_type": "code",
      "metadata": {
        "colab": {
          "base_uri": "https://localhost:8080/"
        },
        "id": "eTpflYaNc7vT",
        "outputId": "f03dca3c-dab3-4b60-c34a-c20535c10166"
      },
      "source": [
        "for images, labels in train_loader:\n",
        "  print(images.shape)\n",
        "  break"
      ],
      "execution_count": 10,
      "outputs": [
        {
          "output_type": "stream",
          "name": "stdout",
          "text": [
            "torch.Size([128, 1, 28, 28])\n"
          ]
        }
      ]
    },
    {
      "cell_type": "code",
      "metadata": {
        "colab": {
          "base_uri": "https://localhost:8080/"
        },
        "id": "IIn-vKGtIHn6",
        "outputId": "17b56034-ed0f-43ab-8f68-3b95746fa5be"
      },
      "source": [
        "k = len(set(train_dataset.targets.numpy()))\n",
        "k"
      ],
      "execution_count": 15,
      "outputs": [
        {
          "output_type": "execute_result",
          "data": {
            "text/plain": [
              "10"
            ]
          },
          "metadata": {},
          "execution_count": 15
        }
      ]
    },
    {
      "cell_type": "code",
      "metadata": {
        "id": "FYqjsr7rubpt"
      },
      "source": [
        "model = nn.Sequential(\n",
        "    nn.Conv2d(in_channels=1, out_channels=6, kernel_size=3),\n",
        "    nn.ReLU(),\n",
        "    nn.MaxPool2d(2, 2),\n",
        "    nn.Conv2d(in_channels=6, out_channels=16, kernel_size=3),\n",
        "    nn.ReLU(),\n",
        "    nn.MaxPool2d(2, 2),\n",
        "    # nn.Conv2d(in_channels=16, out_channels=32, kernel_size=3),\n",
        "    # nn.ReLU(),\n",
        "    # nn.MaxPool2d(2, 2),\n",
        "    nn.Flatten(),\n",
        "    nn.Linear(16*5*5, 300),\n",
        "    nn.ReLU(),\n",
        "    nn.Linear(300, k)\n",
        ")"
      ],
      "execution_count": 36,
      "outputs": []
    },
    {
      "cell_type": "code",
      "metadata": {
        "id": "PksYfiilz4gd"
      },
      "source": [
        "criterion = nn.CrossEntropyLoss()\n",
        "optimizer = torch.optim.Adam(model.parameters(), lr=0.01)"
      ],
      "execution_count": 29,
      "outputs": []
    },
    {
      "cell_type": "code",
      "metadata": {
        "colab": {
          "base_uri": "https://localhost:8080/"
        },
        "id": "t_gU6oOz0KPr",
        "outputId": "33de9980-3198-4342-8203-0e85aa597a17"
      },
      "source": [
        "device = torch.device('cuda:0' if torch.cuda.is_available() else 'cpu')\n",
        "model.to(device)"
      ],
      "execution_count": 30,
      "outputs": [
        {
          "output_type": "execute_result",
          "data": {
            "text/plain": [
              "Sequential(\n",
              "  (0): Conv2d(1, 8, kernel_size=(3, 3), stride=(1, 1))\n",
              "  (1): ReLU()\n",
              "  (2): MaxPool2d(kernel_size=2, stride=2, padding=0, dilation=1, ceil_mode=False)\n",
              "  (3): Conv2d(8, 16, kernel_size=(3, 3), stride=(1, 1))\n",
              "  (4): ReLU()\n",
              "  (5): MaxPool2d(kernel_size=2, stride=2, padding=0, dilation=1, ceil_mode=False)\n",
              "  (6): Conv2d(16, 32, kernel_size=(3, 3), stride=(1, 1))\n",
              "  (7): ReLU()\n",
              "  (8): MaxPool2d(kernel_size=2, stride=2, padding=0, dilation=1, ceil_mode=False)\n",
              "  (9): Flatten(start_dim=-1, end_dim=800)\n",
              "  (10): Linear(in_features=800, out_features=300, bias=True)\n",
              "  (11): ReLU()\n",
              "  (12): Linear(in_features=300, out_features=10, bias=True)\n",
              ")"
            ]
          },
          "metadata": {},
          "execution_count": 30
        }
      ]
    },
    {
      "cell_type": "code",
      "metadata": {
        "id": "6FXe3_Lc8FbI"
      },
      "source": [
        "epochs=10\n",
        "def training(epochs, train_loader, test_loader, criterion, optimizer, model):\n",
        "  \n",
        "  train_losses=np.zeros(epochs)\n",
        "  test_losses=np.zeros(epochs)\n",
        "  for i in range(epochs):\n",
        "    train_loss=[]\n",
        "    for input, target in train_loader:\n",
        "      input, target = input.to(device), target.to(device)\n",
        "      optimizer.zero_grad()\n",
        "      output = model(input)\n",
        "      loss = criterion(output, target)\n",
        "      train_loss.append(loss.item())\n",
        "      loss.backward()\n",
        "      optimizer.step()\n",
        "    train_losses[i] = np.mean(train_loss)\n",
        "    \n",
        "    test_loss=[]\n",
        "    for input, target in test_loader:\n",
        "      input, target = input.to(device), target.to(device)\n",
        "      optimizer.zero_grad()\n",
        "      output = model(input)\n",
        "      loss = criterion(output, target)\n",
        "      test_loss.append(loss.item())\n",
        "      loss.backward()\n",
        "      optimizer.step()\n",
        "    test_losses[i] = np.mean(test_loss)\n",
        "    print(f'Train Loss= {train_loss}, Test Loss= {test_loss}')\n",
        "  return train_losses, test_losses"
      ],
      "execution_count": 44,
      "outputs": []
    },
    {
      "cell_type": "code",
      "metadata": {
        "colab": {
          "base_uri": "https://localhost:8080/"
        },
        "id": "0yH7YcMXJ04H",
        "outputId": "b47bdbf9-4225-443e-c092-5eb7972b9406"
      },
      "source": [
        "train_losses, test_losses = training(epochs, train_loader, test_loader, criterion, optimizer, model)"
      ],
      "execution_count": 45,
      "outputs": [
        {
          "output_type": "stream",
          "name": "stdout",
          "text": [
            "Train Loss= [2.305654287338257, 2.3009192943573, 2.301039218902588, 2.2976505756378174, 2.3049721717834473, 2.3075950145721436, 2.3007099628448486, 2.3039281368255615, 2.310105323791504, 2.301598072052002, 2.303727865219116, 2.3039286136627197, 2.3078315258026123, 2.308976888656616, 2.303347587585449, 2.3038604259490967, 2.3003828525543213, 2.2988789081573486, 2.3024535179138184, 2.2983946800231934, 2.3025383949279785, 2.313659906387329, 2.3125503063201904, 2.299776077270508, 2.302025079727173, 2.301010847091675, 2.298656463623047, 2.30202317237854, 2.3058485984802246, 2.3084280490875244, 2.3121144771575928, 2.2958791255950928, 2.306168794631958, 2.3094427585601807, 2.2984471321105957, 2.30165958404541, 2.308199882507324, 2.301386833190918, 2.3027026653289795, 2.2977800369262695, 2.307312488555908, 2.3007121086120605, 2.310563087463379, 2.3086113929748535, 2.2928009033203125, 2.3035929203033447, 2.2956929206848145, 2.306441307067871, 2.2986714839935303, 2.3037033081054688, 2.301586389541626, 2.291459083557129, 2.301177978515625, 2.2949376106262207, 2.304750442504883, 2.297062635421753, 2.298271894454956, 2.305762529373169, 2.292874813079834, 2.2995288372039795, 2.2998950481414795, 2.3026626110076904, 2.3058571815490723, 2.3014960289001465, 2.306502103805542, 2.3061115741729736, 2.3048532009124756, 2.2992093563079834, 2.301046848297119, 2.3000991344451904, 2.3024179935455322, 2.3029589653015137, 2.3047213554382324, 2.300215244293213, 2.30771803855896, 2.303420066833496, 2.298224687576294, 2.303159475326538, 2.3010904788970947, 2.3039071559906006, 2.3016703128814697, 2.301790714263916, 2.3043055534362793, 2.299933671951294, 2.3069188594818115, 2.3029098510742188, 2.307541847229004, 2.296170234680176, 2.3089792728424072, 2.298552989959717, 2.3006021976470947, 2.2924582958221436, 2.301180601119995, 2.307666301727295, 2.300457239151001, 2.303617000579834, 2.3072803020477295, 2.305501937866211, 2.2994706630706787, 2.307262420654297, 2.3122775554656982, 2.3135757446289062, 2.3019614219665527, 2.3050520420074463, 2.2975804805755615, 2.3085806369781494, 2.3061625957489014, 2.3082218170166016, 2.3009016513824463, 2.307678699493408, 2.3063008785247803, 2.308026075363159, 2.3045642375946045, 2.3055167198181152, 2.3030219078063965, 2.3045778274536133, 2.305109977722168, 2.3049166202545166, 2.30714750289917, 2.299804925918579, 2.3077328205108643, 2.311192035675049, 2.2964093685150146, 2.3012478351593018, 2.30928111076355, 2.2975008487701416, 2.30422043800354, 2.303494453430176, 2.303175449371338, 2.3068268299102783, 2.3010036945343018, 2.3054492473602295, 2.309893846511841, 2.300839424133301, 2.30863094329834, 2.2995717525482178, 2.301121473312378, 2.3099913597106934, 2.3041253089904785, 2.299710750579834, 2.2937734127044678, 2.29945969581604, 2.305577278137207, 2.3030412197113037, 2.318026065826416, 2.3046324253082275, 2.302257537841797, 2.311533212661743, 2.304555892944336, 2.307908773422241, 2.298135995864868, 2.2974774837493896, 2.2980880737304688, 2.297605514526367, 2.3031647205352783, 2.2978665828704834, 2.3069417476654053, 2.2997782230377197, 2.3072595596313477, 2.3025076389312744, 2.293346881866455, 2.3054864406585693, 2.3059043884277344, 2.3047285079956055, 2.300011157989502, 2.2991902828216553, 2.3000669479370117, 2.300947666168213, 2.2984936237335205, 2.30849289894104, 2.303701877593994, 2.3070473670959473, 2.302238702774048, 2.307827949523926, 2.3012123107910156, 2.297753095626831, 2.3057260513305664, 2.3006272315979004, 2.3055801391601562, 2.3005142211914062, 2.3143222332000732, 2.295405626296997, 2.2961361408233643, 2.3053841590881348, 2.3037326335906982, 2.3041651248931885, 2.300039291381836, 2.3016977310180664, 2.2964508533477783, 2.2998695373535156, 2.3125078678131104, 2.3067731857299805, 2.301513195037842, 2.300344228744507, 2.305884599685669, 2.30611515045166, 2.3027381896972656, 2.293046236038208, 2.3092803955078125, 2.296161651611328, 2.3101024627685547, 2.307262420654297, 2.308758497238159, 2.305830955505371, 2.3084897994995117, 2.302743911743164, 2.3045785427093506, 2.2979114055633545, 2.2989516258239746, 2.317932605743408, 2.30348801612854, 2.308933734893799, 2.3054938316345215, 2.310384750366211, 2.3058485984802246, 2.3049800395965576, 2.3001604080200195, 2.303662061691284, 2.30228328704834, 2.3038642406463623, 2.3029658794403076, 2.3106606006622314, 2.3051540851593018, 2.3024322986602783, 2.303044557571411, 2.3034613132476807, 2.3053762912750244, 2.30387020111084, 2.3048171997070312, 2.2986016273498535, 2.308213233947754, 2.3055176734924316, 2.303628921508789, 2.3056249618530273, 2.3061399459838867, 2.3012473583221436, 2.294610023498535, 2.302611827850342, 2.3045814037323, 2.300793170928955, 2.2991034984588623, 2.299283742904663, 2.3004519939422607, 2.2995729446411133, 2.3040404319763184, 2.3019981384277344, 2.29819393157959, 2.300828456878662, 2.3027384281158447, 2.30844783782959, 2.300585985183716, 2.310267686843872, 2.2958920001983643, 2.305626392364502, 2.3031864166259766, 2.304098129272461, 2.298163652420044, 2.3036656379699707, 2.3038268089294434, 2.301508903503418, 2.302046298980713, 2.299858331680298, 2.3080646991729736, 2.3044652938842773, 2.297292470932007, 2.2958414554595947, 2.297168016433716, 2.3066277503967285, 2.3094778060913086, 2.3007051944732666, 2.312579870223999, 2.300973415374756, 2.3073389530181885, 2.3063950538635254, 2.3058829307556152, 2.300266981124878, 2.305302143096924, 2.3024203777313232, 2.2949881553649902, 2.308098793029785, 2.3149054050445557, 2.2996349334716797, 2.301769733428955, 2.3033223152160645, 2.306675434112549, 2.2993993759155273, 2.303067207336426, 2.3040566444396973, 2.2944209575653076, 2.299494504928589, 2.304779529571533, 2.306987762451172, 2.3076226711273193, 2.3107950687408447, 2.297839879989624, 2.3103928565979004, 2.3032565116882324, 2.3011763095855713, 2.3023629188537598, 2.303361177444458, 2.3008933067321777, 2.2929527759552, 2.302887201309204, 2.2907543182373047, 2.3029491901397705, 2.3025574684143066, 2.297659397125244, 2.304185628890991, 2.3048903942108154, 2.303042411804199, 2.301621437072754, 2.305746078491211, 2.2994515895843506, 2.299421787261963, 2.2984745502471924, 2.3044323921203613, 2.301354169845581, 2.2982308864593506, 2.3099114894866943, 2.2989423274993896, 2.3027563095092773, 2.3036530017852783, 2.30366587638855, 2.3098580837249756, 2.297062873840332, 2.299527406692505, 2.299844980239868, 2.302813768386841, 2.293835163116455, 2.306990146636963, 2.299288272857666, 2.3028345108032227, 2.3047027587890625, 2.301767349243164, 2.30001163482666, 2.3028647899627686, 2.301030158996582, 2.296170473098755, 2.3063364028930664, 2.300783395767212, 2.3087544441223145, 2.3095879554748535, 2.3051469326019287, 2.301314115524292, 2.306222677230835, 2.2954442501068115, 2.303609848022461, 2.3104822635650635, 2.3039324283599854, 2.305396318435669, 2.3027968406677246, 2.2940828800201416, 2.3136777877807617, 2.3102707862854004, 2.3029520511627197, 2.29805850982666, 2.3051257133483887, 2.3026866912841797, 2.307079315185547, 2.3026208877563477, 2.29655122756958, 2.3069474697113037, 2.3060410022735596, 2.303452968597412, 2.302205801010132, 2.305198907852173, 2.311039447784424, 2.297475814819336, 2.2972025871276855, 2.302187919616699, 2.314283609390259, 2.293567657470703, 2.304673671722412, 2.299983501434326, 2.299844980239868, 2.303338050842285, 2.3060245513916016, 2.307111978530884, 2.3165767192840576, 2.3028228282928467, 2.309419870376587, 2.2956182956695557, 2.3095715045928955, 2.3006198406219482, 2.296044111251831, 2.30985951423645, 2.3062684535980225, 2.3021531105041504, 2.306962490081787, 2.3066718578338623, 2.3078396320343018, 2.3032073974609375, 2.3027279376983643, 2.304253339767456, 2.302855968475342, 2.3072926998138428, 2.312133550643921, 2.2989749908447266, 2.3007161617279053, 2.3082387447357178, 2.3046998977661133, 2.303515911102295, 2.31311297416687, 2.308753252029419, 2.3095006942749023, 2.300851583480835, 2.3045523166656494, 2.3036303520202637, 2.3040850162506104, 2.3037400245666504, 2.301335573196411, 2.3059282302856445, 2.3054137229919434, 2.30517840385437, 2.3017871379852295, 2.2980074882507324, 2.296656608581543, 2.3064494132995605, 2.31255841255188, 2.3059070110321045, 2.3091347217559814, 2.2997140884399414, 2.3030803203582764, 2.2995049953460693, 2.3066396713256836, 2.3036677837371826, 2.310575008392334, 2.3048453330993652, 2.311832904815674, 2.3074722290039062, 2.308887481689453, 2.309521436691284, 2.307732582092285, 2.2986254692077637, 2.307293653488159, 2.2995002269744873, 2.303785800933838, 2.2972354888916016, 2.3013997077941895, 2.309689521789551, 2.3049263954162598, 2.298426628112793, 2.3081183433532715, 2.307190418243408, 2.295626401901245, 2.307509183883667, 2.309250831604004, 2.300117254257202, 2.2961137294769287, 2.3018133640289307, 2.3013834953308105, 2.305687189102173, 2.300966501235962, 2.300288438796997, 2.2999014854431152, 2.2985894680023193, 2.304448127746582, 2.307746648788452, 2.2984213829040527, 2.306565523147583, 2.298542022705078, 2.308553695678711, 2.3002378940582275, 2.301626443862915, 2.306635856628418, 2.3072714805603027, 2.3087315559387207, 2.3020386695861816, 2.305072784423828], Test Loss= [2.3060970306396484, 2.3066983222961426, 2.305288314819336, 2.3061962127685547, 2.300955057144165, 2.3093974590301514, 2.3061158657073975, 2.299144983291626, 2.296093463897705, 2.3021240234375, 2.3084568977355957, 2.2995526790618896, 2.3014461994171143, 2.295433282852173, 2.3152213096618652, 2.3047561645507812, 2.299738883972168, 2.301626443862915, 2.310037851333618, 2.302079200744629, 2.309563636779785, 2.3099358081817627, 2.3000550270080566, 2.3113245964050293, 2.3028435707092285, 2.3067116737365723, 2.3038418292999268, 2.3055005073547363, 2.3002583980560303, 2.3081812858581543, 2.3068926334381104, 2.305196762084961, 2.3071205615997314, 2.304067611694336, 2.3000552654266357, 2.306748867034912, 2.304412841796875, 2.297623872756958, 2.308488368988037, 2.2953274250030518, 2.300215005874634, 2.3079769611358643, 2.29488468170166, 2.302560806274414, 2.3044557571411133, 2.2941784858703613, 2.300671339035034, 2.3038105964660645, 2.2951488494873047, 2.2983672618865967, 2.304502248764038, 2.300905466079712, 2.3080615997314453, 2.3012828826904297, 2.2965211868286133, 2.306091070175171, 2.3012235164642334, 2.2998297214508057, 2.296306848526001, 2.305351495742798, 2.2991342544555664, 2.3027169704437256, 2.3028016090393066, 2.303649663925171, 2.2944788932800293, 2.313267230987549, 2.307952404022217, 2.3088343143463135, 2.3032240867614746, 2.3051459789276123, 2.3108036518096924, 2.295546293258667, 2.300246477127075, 2.3033640384674072, 2.305110216140747, 2.304598093032837, 2.3153653144836426, 2.3041839599609375, 2.302180767059326]\n",
            "Train Loss= [2.308809280395508, 2.3086671829223633, 2.3086016178131104, 2.3002805709838867, 2.3003311157226562, 2.3054893016815186, 2.3088889122009277, 2.2995445728302, 2.3058013916015625, 2.3015835285186768, 2.302722692489624, 2.3041787147521973, 2.294682741165161, 2.2958390712738037, 2.3027820587158203, 2.2987093925476074, 2.3018386363983154, 2.292167901992798, 2.2976458072662354, 2.299607753753662, 2.3108866214752197, 2.291778564453125, 2.3160560131073, 2.3029208183288574, 2.2993505001068115, 2.295496940612793, 2.2915008068084717, 2.2993202209472656, 2.3035690784454346, 2.3022451400756836, 2.2932043075561523, 2.299527645111084, 2.3047914505004883, 2.304642677307129, 2.3077750205993652, 2.312567949295044, 2.3038032054901123, 2.3015646934509277, 2.3050894737243652, 2.307450771331787, 2.30776309967041, 2.305009126663208, 2.3137781620025635, 2.3048794269561768, 2.305877208709717, 2.3047406673431396, 2.3012311458587646, 2.3058488368988037, 2.298853874206543, 2.302309513092041, 2.301926612854004, 2.302901268005371, 2.2983810901641846, 2.2976036071777344, 2.300705909729004, 2.293012857437134, 2.3017396926879883, 2.2973251342773438, 2.2985033988952637, 2.3000802993774414, 2.3025712966918945, 2.3029158115386963, 2.3056836128234863, 2.307913303375244, 2.3093299865722656, 2.300504207611084, 2.305095911026001, 2.30430269241333, 2.2960829734802246, 2.30387544631958, 2.2991089820861816, 2.3005316257476807, 2.306244373321533, 2.3076584339141846, 2.3062374591827393, 2.3075075149536133, 2.2990822792053223, 2.3044259548187256, 2.3027443885803223, 2.296525478363037, 2.301295042037964, 2.2983298301696777, 2.302978277206421, 2.304060220718384, 2.303710699081421, 2.2958638668060303, 2.3022358417510986, 2.3061821460723877, 2.3039801120758057, 2.313910961151123, 2.2995033264160156, 2.3047428131103516, 2.2987163066864014, 2.313880443572998, 2.303698778152466, 2.302013635635376, 2.2991418838500977, 2.3080170154571533, 2.3015079498291016, 2.3059051036834717, 2.298058271408081, 2.308090925216675, 2.2975802421569824, 2.297461986541748, 2.3096885681152344, 2.306600332260132, 2.30377197265625, 2.2955713272094727, 2.3049910068511963, 2.3064305782318115, 2.3045554161071777, 2.303337574005127, 2.301563262939453, 2.305419921875, 2.298444986343384, 2.300348997116089, 2.2958314418792725, 2.305095672607422, 2.3131046295166016, 2.2995386123657227, 2.3098926544189453, 2.3015308380126953, 2.3049263954162598, 2.303086519241333, 2.301048994064331, 2.3011574745178223, 2.2961435317993164, 2.3009531497955322, 2.3017210960388184, 2.306771755218506, 2.3019089698791504, 2.309863328933716, 2.305088520050049, 2.305116891860962, 2.3030736446380615, 2.3017578125, 2.298207998275757, 2.30952787399292, 2.298454999923706, 2.305116891860962, 2.301272392272949, 2.308901786804199, 2.3012704849243164, 2.3052234649658203, 2.308398485183716, 2.303514242172241, 2.3063933849334717, 2.2986433506011963, 2.308839797973633, 2.3053133487701416, 2.301687240600586, 2.305250644683838, 2.3005337715148926, 2.3045787811279297, 2.3084218502044678, 2.301539182662964, 2.3057520389556885, 2.3064944744110107, 2.3008735179901123, 2.3009934425354004, 2.3047590255737305, 2.2926807403564453, 2.301267623901367, 2.298719644546509, 2.3031606674194336, 2.300100564956665, 2.302851915359497, 2.3048503398895264, 2.3050901889801025, 2.3020286560058594, 2.308330535888672, 2.3049373626708984, 2.297619104385376, 2.30765700340271, 2.3017737865448, 2.301161050796509, 2.301335334777832, 2.306492567062378, 2.310425281524658, 2.3017354011535645, 2.30118989944458, 2.3119640350341797, 2.3077242374420166, 2.2997095584869385, 2.306009292602539, 2.3046576976776123, 2.3048081398010254, 2.3041317462921143, 2.2997560501098633, 2.2972075939178467, 2.3042893409729004, 2.298978567123413, 2.3040382862091064, 2.293386459350586, 2.3031885623931885, 2.299769878387451, 2.303922653198242, 2.2973945140838623, 2.3019347190856934, 2.3119776248931885, 2.301837921142578, 2.304443359375, 2.3110034465789795, 2.30373215675354, 2.306694269180298, 2.297011375427246, 2.31107497215271, 2.3025639057159424, 2.305117130279541, 2.3067641258239746, 2.302218198776245, 2.301939010620117, 2.299900531768799, 2.307940721511841, 2.299314498901367, 2.3140156269073486, 2.3018648624420166, 2.3087265491485596, 2.3037643432617188, 2.308666467666626, 2.303968667984009, 2.2987263202667236, 2.30330753326416, 2.2970290184020996, 2.305647611618042, 2.3005197048187256, 2.3106367588043213, 2.3036606311798096, 2.3001699447631836, 2.3035759925842285, 2.3151001930236816, 2.302785634994507, 2.2946090698242188, 2.304762601852417, 2.3006324768066406, 2.312533140182495, 2.308502197265625, 2.3108606338500977, 2.303757429122925, 2.3023014068603516, 2.3085861206054688, 2.3044822216033936, 2.2994349002838135, 2.303292751312256, 2.301769256591797, 2.308769941329956, 2.3040499687194824, 2.3012876510620117, 2.299595355987549, 2.30330491065979, 2.3052895069122314, 2.298949718475342, 2.3053879737854004, 2.3033034801483154, 2.302886724472046, 2.299741268157959, 2.2978248596191406, 2.29878830909729, 2.302396774291992, 2.3083817958831787, 2.3063385486602783, 2.307145357131958, 2.307844638824463, 2.307497501373291, 2.3005454540252686, 2.3071775436401367, 2.3000144958496094, 2.30735182762146, 2.29905104637146, 2.3038551807403564, 2.2981786727905273, 2.3043930530548096, 2.305936098098755, 2.2986178398132324, 2.3029308319091797, 2.2965784072875977, 2.309995174407959, 2.308577060699463, 2.3024415969848633, 2.307634115219116, 2.3011393547058105, 2.308972120285034, 2.3075480461120605, 2.2974953651428223, 2.3024001121520996, 2.296621561050415, 2.2980751991271973, 2.3096351623535156, 2.3011746406555176, 2.304110288619995, 2.3021109104156494, 2.310152292251587, 2.2996597290039062, 2.297045946121216, 2.305429220199585, 2.296767234802246, 2.303758144378662, 2.3026905059814453, 2.3074276447296143, 2.3052456378936768, 2.300278902053833, 2.300585985183716, 2.297884941101074, 2.3024260997772217, 2.3031105995178223, 2.302062749862671, 2.3021652698516846, 2.3045084476470947, 2.306570053100586, 2.3076484203338623, 2.30305552482605, 2.3043911457061768, 2.3042097091674805, 2.2932400703430176, 2.293566942214966, 2.3078627586364746, 2.3053691387176514, 2.302122116088867, 2.308678150177002, 2.3025331497192383, 2.3040401935577393, 2.304535388946533, 2.3052008152008057, 2.3123483657836914, 2.288797378540039, 2.302478075027466, 2.3047382831573486, 2.3092973232269287, 2.298776149749756, 2.31309175491333, 2.3059780597686768, 2.302973747253418, 2.3026764392852783, 2.307854652404785, 2.304971218109131, 2.3037984371185303, 2.3014707565307617, 2.3000285625457764, 2.301302433013916, 2.3019864559173584, 2.2943005561828613, 2.3030381202697754, 2.3071982860565186, 2.30346941947937, 2.3061375617980957, 2.301363945007324, 2.298407793045044, 2.308032751083374, 2.29573655128479, 2.292505979537964, 2.3036293983459473, 2.3120014667510986, 2.300175189971924, 2.3035671710968018, 2.3114333152770996, 2.2973084449768066, 2.307767868041992, 2.298391342163086, 2.3105244636535645, 2.3049261569976807, 2.306368112564087, 2.3016414642333984, 2.300222873687744, 2.3117847442626953, 2.30497407913208, 2.311448097229004, 2.3060407638549805, 2.3059637546539307, 2.307063341140747, 2.29876446723938, 2.304178237915039, 2.300546884536743, 2.306140422821045, 2.3039042949676514, 2.308349132537842, 2.3065075874328613, 2.29893159866333, 2.310535192489624, 2.3049402236938477, 2.3124568462371826, 2.2998602390289307, 2.3055570125579834, 2.296464204788208, 2.3008534908294678, 2.3001463413238525, 2.3049187660217285, 2.3066346645355225, 2.3060944080352783, 2.300119638442993, 2.296041250228882, 2.303788900375366, 2.302682399749756, 2.3063583374023438, 2.3145647048950195, 2.3013010025024414, 2.3051366806030273, 2.3069756031036377, 2.3090577125549316, 2.300252676010132, 2.2998554706573486, 2.306819200515747, 2.306438446044922, 2.308213710784912, 2.3097524642944336, 2.31201171875, 2.298921823501587, 2.302717685699463, 2.3016927242279053, 2.3105673789978027, 2.3070201873779297, 2.3134407997131348, 2.3001294136047363, 2.3026950359344482, 2.302500009536743, 2.3049607276916504, 2.2982380390167236, 2.298168182373047, 2.312675714492798, 2.3031296730041504, 2.3039541244506836, 2.3054161071777344, 2.303664207458496, 2.3005576133728027, 2.304943084716797, 2.314209222793579, 2.303175210952759, 2.2955503463745117, 2.301769256591797, 2.301558017730713, 2.2984538078308105, 2.301381826400757, 2.2979185581207275, 2.299323320388794, 2.3012466430664062, 2.3066728115081787, 2.3081188201904297, 2.303278923034668, 2.3031275272369385, 2.302647352218628, 2.298272132873535, 2.305682420730591, 2.3030498027801514, 2.301551580429077, 2.3027749061584473, 2.303736925125122, 2.3092052936553955, 2.2986185550689697, 2.303447723388672, 2.3108744621276855, 2.3035225868225098, 2.302208185195923, 2.3087730407714844, 2.3000075817108154, 2.29872465133667, 2.298084259033203, 2.3004860877990723, 2.3016505241394043, 2.303314208984375, 2.307238817214966, 2.309746265411377, 2.3025434017181396, 2.3046765327453613, 2.3052194118499756, 2.301058530807495, 2.299530029296875, 2.298912525177002, 2.3062400817871094, 2.304232358932495, 2.308336019515991], Test Loss= [2.3060970306396484, 2.3066983222961426, 2.305288314819336, 2.3061962127685547, 2.300955057144165, 2.3093974590301514, 2.3061158657073975, 2.299144983291626, 2.296093463897705, 2.3021240234375, 2.3084568977355957, 2.2995526790618896, 2.3014461994171143, 2.295433282852173, 2.3152213096618652, 2.3047561645507812, 2.299738883972168, 2.301626443862915, 2.310037851333618, 2.302079200744629, 2.309563636779785, 2.3099358081817627, 2.3000550270080566, 2.3113245964050293, 2.3028435707092285, 2.3067116737365723, 2.3038418292999268, 2.3055005073547363, 2.3002583980560303, 2.3081812858581543, 2.3068926334381104, 2.305196762084961, 2.3071205615997314, 2.304067611694336, 2.3000552654266357, 2.306748867034912, 2.304412841796875, 2.297623872756958, 2.308488368988037, 2.2953274250030518, 2.300215005874634, 2.3079769611358643, 2.29488468170166, 2.302560806274414, 2.3044557571411133, 2.2941784858703613, 2.300671339035034, 2.3038105964660645, 2.2951488494873047, 2.2983672618865967, 2.304502248764038, 2.300905466079712, 2.3080615997314453, 2.3012828826904297, 2.2965211868286133, 2.306091070175171, 2.3012235164642334, 2.2998297214508057, 2.296306848526001, 2.305351495742798, 2.2991342544555664, 2.3027169704437256, 2.3028016090393066, 2.303649663925171, 2.2944788932800293, 2.313267230987549, 2.307952404022217, 2.3088343143463135, 2.3032240867614746, 2.3051459789276123, 2.3108036518096924, 2.295546293258667, 2.300246477127075, 2.3033640384674072, 2.305110216140747, 2.304598093032837, 2.3153653144836426, 2.3041839599609375, 2.302180767059326]\n",
            "Train Loss= [2.3002240657806396, 2.3062455654144287, 2.3040812015533447, 2.3092339038848877, 2.3015434741973877, 2.307325601577759, 2.2960643768310547, 2.299832582473755, 2.305874824523926, 2.3039653301239014, 2.3004708290100098, 2.304131269454956, 2.3080320358276367, 2.3018226623535156, 2.3059115409851074, 2.3019514083862305, 2.306094169616699, 2.3018343448638916, 2.3051083087921143, 2.306778907775879, 2.305009603500366, 2.3001554012298584, 2.30574107170105, 2.2942631244659424, 2.3148856163024902, 2.3056800365448, 2.3109331130981445, 2.2997899055480957, 2.295854330062866, 2.3032748699188232, 2.3037004470825195, 2.2980241775512695, 2.3042659759521484, 2.3043670654296875, 2.3058667182922363, 2.304887533187866, 2.307478904724121, 2.2904446125030518, 2.3085708618164062, 2.3021013736724854, 2.3042244911193848, 2.303191661834717, 2.308631181716919, 2.2984962463378906, 2.3030130863189697, 2.3066320419311523, 2.3185455799102783, 2.3017072677612305, 2.3049347400665283, 2.3029708862304688, 2.3058664798736572, 2.3011584281921387, 2.3020145893096924, 2.300724744796753, 2.312986135482788, 2.3053789138793945, 2.306443214416504, 2.305326223373413, 2.3000903129577637, 2.3058979511260986, 2.3056247234344482, 2.30537486076355, 2.3014748096466064, 2.301863670349121, 2.295210123062134, 2.307657241821289, 2.3049261569976807, 2.306347608566284, 2.3113889694213867, 2.3130946159362793, 2.29968523979187, 2.3056671619415283, 2.3092398643493652, 2.3089261054992676, 2.3083691596984863, 2.3029143810272217, 2.3131561279296875, 2.299921989440918, 2.3005378246307373, 2.2965822219848633, 2.3024508953094482, 2.3046700954437256, 2.305861473083496, 2.306497573852539, 2.308652639389038, 2.301494598388672, 2.3005688190460205, 2.3092377185821533, 2.305619955062866, 2.302258014678955, 2.3088080883026123, 2.2996394634246826, 2.3055098056793213, 2.308298349380493, 2.2988831996917725, 2.306494951248169, 2.3040480613708496, 2.300628662109375, 2.2989251613616943, 2.302417516708374, 2.2959001064300537, 2.305356979370117, 2.3008360862731934, 2.301177978515625, 2.2982473373413086, 2.2934319972991943, 2.3008670806884766, 2.298999786376953, 2.3090221881866455, 2.2998504638671875, 2.301645040512085, 2.303288698196411, 2.296180248260498, 2.3064417839050293, 2.301412343978882, 2.3046774864196777, 2.2993576526641846, 2.3083744049072266, 2.296937942504883, 2.303994655609131, 2.3024141788482666, 2.3031234741210938, 2.301845073699951, 2.3052010536193848, 2.3019843101501465, 2.3023107051849365, 2.304291009902954, 2.300692319869995, 2.3011367321014404, 2.2972660064697266, 2.301180124282837, 2.3062310218811035, 2.304717540740967, 2.3049354553222656, 2.2942678928375244, 2.3027122020721436, 2.2997074127197266, 2.2978386878967285, 2.3003287315368652, 2.3012192249298096, 2.302314281463623, 2.31036114692688, 2.3115909099578857, 2.305046796798706, 2.310453176498413, 2.3015711307525635, 2.300389289855957, 2.302917718887329, 2.302414655685425, 2.296778440475464, 2.3023533821105957, 2.3029115200042725, 2.303007125854492, 2.2973196506500244, 2.301635980606079, 2.311150312423706, 2.2938554286956787, 2.297719717025757, 2.3019440174102783, 2.3065176010131836, 2.312966823577881, 2.300069570541382, 2.3053860664367676, 2.3053078651428223, 2.309190034866333, 2.3089301586151123, 2.2964296340942383, 2.3024234771728516, 2.302717924118042, 2.3075854778289795, 2.306330680847168, 2.2988667488098145, 2.302385091781616, 2.3124473094940186, 2.3027713298797607, 2.300072193145752, 2.3125317096710205, 2.301403284072876, 2.2959258556365967, 2.3078181743621826, 2.3017830848693848, 2.296562671661377, 2.3036677837371826, 2.3017637729644775, 2.3014402389526367, 2.2935805320739746, 2.2983815670013428, 2.3064677715301514, 2.300260305404663, 2.3069896697998047, 2.309762954711914, 2.301107168197632, 2.2963764667510986, 2.3007521629333496, 2.2961277961730957, 2.3078877925872803, 2.3088595867156982, 2.308291435241699, 2.307776689529419, 2.3021395206451416, 2.3037259578704834, 2.306333303451538, 2.293478488922119, 2.299370288848877, 2.3077969551086426, 2.302595615386963, 2.3062775135040283, 2.3037729263305664, 2.3001489639282227, 2.3083996772766113, 2.3109078407287598, 2.2995831966400146, 2.3083763122558594, 2.3027291297912598, 2.3087081909179688, 2.305501937866211, 2.300999402999878, 2.306600332260132, 2.3057289123535156, 2.2949910163879395, 2.3049609661102295, 2.3037335872650146, 2.301028251647949, 2.308213949203491, 2.295819044113159, 2.306159019470215, 2.3012332916259766, 2.306702136993408, 2.3061976432800293, 2.3004465103149414, 2.304269790649414, 2.3077569007873535, 2.303457736968994, 2.301027297973633, 2.3048813343048096, 2.300354242324829, 2.308049201965332, 2.3091118335723877, 2.296344757080078, 2.3074934482574463, 2.2959375381469727, 2.304412603378296, 2.296710252761841, 2.302129030227661, 2.3039355278015137, 2.307429552078247, 2.2994542121887207, 2.305811643600464, 2.3084402084350586, 2.309244394302368, 2.301053762435913, 2.303252935409546, 2.3009886741638184, 2.311671733856201, 2.3059329986572266, 2.3145556449890137, 2.3032991886138916, 2.3029637336730957, 2.292313575744629, 2.305598735809326, 2.3104846477508545, 2.2999989986419678, 2.304600238800049, 2.3067328929901123, 2.3018105030059814, 2.298043727874756, 2.2976229190826416, 2.2989959716796875, 2.308220863342285, 2.2945241928100586, 2.3003485202789307, 2.30507493019104, 2.2993903160095215, 2.3134922981262207, 2.304804801940918, 2.291588306427002, 2.304382562637329, 2.307142496109009, 2.3002755641937256, 2.2986843585968018, 2.3133156299591064, 2.2968926429748535, 2.312269926071167, 2.296107530593872, 2.2984278202056885, 2.3097431659698486, 2.3085405826568604, 2.304016590118408, 2.3036551475524902, 2.301445484161377, 2.307777166366577, 2.3023769855499268, 2.3040943145751953, 2.2994956970214844, 2.301058530807495, 2.295802354812622, 2.3096530437469482, 2.2965521812438965, 2.311232089996338, 2.307478427886963, 2.29827880859375, 2.298187494277954, 2.3004581928253174, 2.298964500427246, 2.3101861476898193, 2.3064167499542236, 2.3002049922943115, 2.304154396057129, 2.3034322261810303, 2.3035507202148438, 2.3032569885253906, 2.295395851135254, 2.2975456714630127, 2.3102939128875732, 2.3004136085510254, 2.3146541118621826, 2.3041162490844727, 2.2998812198638916, 2.2981526851654053, 2.3082363605499268, 2.3049800395965576, 2.300269603729248, 2.3077428340911865, 2.3000741004943848, 2.301905632019043, 2.299544334411621, 2.3080103397369385, 2.300429582595825, 2.305187702178955, 2.299874782562256, 2.3042774200439453, 2.3023064136505127, 2.3043065071105957, 2.3020987510681152, 2.2988381385803223, 2.3119566440582275, 2.3047525882720947, 2.3059608936309814, 2.2985341548919678, 2.303273916244507, 2.2988388538360596, 2.3012895584106445, 2.306553602218628, 2.3094794750213623, 2.300816059112549, 2.2991788387298584, 2.3054568767547607, 2.3019063472747803, 2.3003644943237305, 2.2960193157196045, 2.2979660034179688, 2.300153970718384, 2.299895763397217, 2.3113322257995605, 2.3097422122955322, 2.3114349842071533, 2.3068439960479736, 2.3008692264556885, 2.2999000549316406, 2.2954564094543457, 2.307891607284546, 2.3046674728393555, 2.302952766418457, 2.3074257373809814, 2.3001461029052734, 2.3081860542297363, 2.3051953315734863, 2.2958269119262695, 2.3071563243865967, 2.3017897605895996, 2.3034205436706543, 2.304483652114868, 2.3000802993774414, 2.3103699684143066, 2.3031976222991943, 2.30942440032959, 2.3000476360321045, 2.2934446334838867, 2.305257558822632, 2.307246208190918, 2.3117153644561768, 2.3125743865966797, 2.3074309825897217, 2.3094394207000732, 2.3007102012634277, 2.311910390853882, 2.290210485458374, 2.315486192703247, 2.301304340362549, 2.2984983921051025, 2.312312602996826, 2.3062708377838135, 2.298778772354126, 2.3013484477996826, 2.303476095199585, 2.3039071559906006, 2.304473400115967, 2.3041577339172363, 2.302398681640625, 2.3088903427124023, 2.3136918544769287, 2.299065351486206, 2.300724744796753, 2.300804853439331, 2.2960121631622314, 2.301116704940796, 2.3071975708007812, 2.3044519424438477, 2.296550989151001, 2.3044471740722656, 2.3054447174072266, 2.3054542541503906, 2.3084259033203125, 2.307281970977783, 2.3068203926086426, 2.299651861190796, 2.2981464862823486, 2.309386730194092, 2.3106155395507812, 2.297450542449951, 2.3028244972229004, 2.304579496383667, 2.308631420135498, 2.2998509407043457, 2.298283100128174, 2.297545909881592, 2.303995370864868, 2.3020541667938232, 2.3067638874053955, 2.303421974182129, 2.3016817569732666, 2.296769857406616, 2.3016443252563477, 2.2989485263824463, 2.303100109100342, 2.310274124145508, 2.3089702129364014, 2.30810284614563, 2.2970166206359863, 2.3051841259002686, 2.3100764751434326, 2.3098793029785156, 2.2992494106292725, 2.2967727184295654, 2.2996392250061035, 2.3083322048187256, 2.3012032508850098, 2.298767566680908, 2.2999701499938965, 2.296912908554077, 2.30088472366333, 2.3032405376434326, 2.299102306365967, 2.3000667095184326, 2.2937607765197754, 2.3066298961639404, 2.3003549575805664, 2.29903507232666, 2.2965564727783203, 2.313683271408081, 2.3048744201660156, 2.309828758239746, 2.3014867305755615, 2.295922040939331, 2.307192325592041, 2.3012094497680664, 2.3087799549102783, 2.2984142303466797, 2.3044145107269287], Test Loss= [2.3060970306396484, 2.3066983222961426, 2.305288314819336, 2.3061962127685547, 2.300955057144165, 2.3093974590301514, 2.3061158657073975, 2.299144983291626, 2.296093463897705, 2.3021240234375, 2.3084568977355957, 2.2995526790618896, 2.3014461994171143, 2.295433282852173, 2.3152213096618652, 2.3047561645507812, 2.299738883972168, 2.301626443862915, 2.310037851333618, 2.302079200744629, 2.309563636779785, 2.3099358081817627, 2.3000550270080566, 2.3113245964050293, 2.3028435707092285, 2.3067116737365723, 2.3038418292999268, 2.3055005073547363, 2.3002583980560303, 2.3081812858581543, 2.3068926334381104, 2.305196762084961, 2.3071205615997314, 2.304067611694336, 2.3000552654266357, 2.306748867034912, 2.304412841796875, 2.297623872756958, 2.308488368988037, 2.2953274250030518, 2.300215005874634, 2.3079769611358643, 2.29488468170166, 2.302560806274414, 2.3044557571411133, 2.2941784858703613, 2.300671339035034, 2.3038105964660645, 2.2951488494873047, 2.2983672618865967, 2.304502248764038, 2.300905466079712, 2.3080615997314453, 2.3012828826904297, 2.2965211868286133, 2.306091070175171, 2.3012235164642334, 2.2998297214508057, 2.296306848526001, 2.305351495742798, 2.2991342544555664, 2.3027169704437256, 2.3028016090393066, 2.303649663925171, 2.2944788932800293, 2.313267230987549, 2.307952404022217, 2.3088343143463135, 2.3032240867614746, 2.3051459789276123, 2.3108036518096924, 2.295546293258667, 2.300246477127075, 2.3033640384674072, 2.305110216140747, 2.304598093032837, 2.3153653144836426, 2.3041839599609375, 2.302180767059326]\n",
            "Train Loss= [2.3082268238067627, 2.2999391555786133, 2.3014414310455322, 2.3039329051971436, 2.304070472717285, 2.310673713684082, 2.294797658920288, 2.300978660583496, 2.302872896194458, 2.3076536655426025, 2.2955474853515625, 2.303118944168091, 2.308100700378418, 2.310136079788208, 2.2999279499053955, 2.3028311729431152, 2.3069183826446533, 2.308699369430542, 2.3035058975219727, 2.304429292678833, 2.2997138500213623, 2.307291030883789, 2.304992914199829, 2.307373046875, 2.310096502304077, 2.3047468662261963, 2.3052287101745605, 2.3052492141723633, 2.3022587299346924, 2.3047478199005127, 2.311418056488037, 2.3058390617370605, 2.307581663131714, 2.2989425659179688, 2.2987513542175293, 2.3097169399261475, 2.3045642375946045, 2.2967846393585205, 2.299018144607544, 2.308986186981201, 2.302201986312866, 2.3053793907165527, 2.30322003364563, 2.3006138801574707, 2.3011934757232666, 2.2988955974578857, 2.297901153564453, 2.3033742904663086, 2.2985823154449463, 2.309931993484497, 2.300825595855713, 2.308586359024048, 2.3010923862457275, 2.3017375469207764, 2.2999794483184814, 2.2996890544891357, 2.307319164276123, 2.3083996772766113, 2.302924871444702, 2.304966926574707, 2.304215908050537, 2.306126356124878, 2.3012945652008057, 2.2993528842926025, 2.3016536235809326, 2.307995319366455, 2.299145221710205, 2.305372714996338, 2.3042330741882324, 2.3042731285095215, 2.305028200149536, 2.305084705352783, 2.3086469173431396, 2.300774097442627, 2.3057308197021484, 2.3112595081329346, 2.3070356845855713, 2.2956314086914062, 2.29838228225708, 2.299211025238037, 2.308098077774048, 2.295640230178833, 2.3004350662231445, 2.312157392501831, 2.3043220043182373, 2.3036105632781982, 2.2932302951812744, 2.299943447113037, 2.300650119781494, 2.309401035308838, 2.3021793365478516, 2.313386917114258, 2.3106508255004883, 2.3108325004577637, 2.3054816722869873, 2.303743362426758, 2.29842209815979, 2.291868209838867, 2.3021786212921143, 2.308981418609619, 2.305959463119507, 2.298179864883423, 2.3046815395355225, 2.302647829055786, 2.3082590103149414, 2.304504156112671, 2.305783748626709, 2.304147481918335, 2.3056793212890625, 2.303865432739258, 2.3050076961517334, 2.302454948425293, 2.299553871154785, 2.3082611560821533, 2.3074567317962646, 2.308901309967041, 2.297755479812622, 2.304532051086426, 2.303683280944824, 2.304854393005371, 2.300175189971924, 2.2980124950408936, 2.3021976947784424, 2.3116044998168945, 2.2993428707122803, 2.3016016483306885, 2.302713394165039, 2.301936388015747, 2.2976412773132324, 2.304091453552246, 2.3038036823272705, 2.3072664737701416, 2.302330255508423, 2.30368971824646, 2.3007400035858154, 2.316502809524536, 2.294761896133423, 2.3073365688323975, 2.303070068359375, 2.3073043823242188, 2.304462432861328, 2.3077774047851562, 2.305285930633545, 2.3016605377197266, 2.309828758239746, 2.311817169189453, 2.3069229125976562, 2.2996420860290527, 2.307509422302246, 2.302529811859131, 2.3103597164154053, 2.301785469055176, 2.3051111698150635, 2.3000853061676025, 2.301694393157959, 2.304196834564209, 2.31095814704895, 2.3052453994750977, 2.3049285411834717, 2.2983644008636475, 2.30350399017334, 2.2967617511749268, 2.3030717372894287, 2.3042445182800293, 2.2981817722320557, 2.3076083660125732, 2.2997806072235107, 2.3057303428649902, 2.3014633655548096, 2.30936598777771, 2.306114912033081, 2.2985594272613525, 2.305992364883423, 2.2962279319763184, 2.30977201461792, 2.3139026165008545, 2.295668125152588, 2.310394287109375, 2.3020193576812744, 2.299006462097168, 2.3052074909210205, 2.294557809829712, 2.3062944412231445, 2.295905828475952, 2.3096630573272705, 2.310063123703003, 2.307271957397461, 2.3121914863586426, 2.303055763244629, 2.309821128845215, 2.300220251083374, 2.3070662021636963, 2.3021645545959473, 2.310563325881958, 2.307284116744995, 2.2999813556671143, 2.3044960498809814, 2.302887439727783, 2.300457715988159, 2.3015494346618652, 2.2936956882476807, 2.3035330772399902, 2.2984299659729004, 2.3099992275238037, 2.299905776977539, 2.2979254722595215, 2.2988340854644775, 2.3030219078063965, 2.305147647857666, 2.3003220558166504, 2.3040807247161865, 2.309326171875, 2.305727958679199, 2.30171275138855, 2.3043735027313232, 2.309523105621338, 2.297794818878174, 2.3169443607330322, 2.3038244247436523, 2.3028922080993652, 2.2980809211730957, 2.2983365058898926, 2.3135628700256348, 2.2982335090637207, 2.305436611175537, 2.299370765686035, 2.3111844062805176, 2.307612657546997, 2.306001901626587, 2.2985916137695312, 2.3033876419067383, 2.302891492843628, 2.302767753601074, 2.2979447841644287, 2.3003382682800293, 2.29494309425354, 2.301269769668579, 2.3007864952087402, 2.306321144104004, 2.3058056831359863, 2.291290521621704, 2.299437999725342, 2.294977903366089, 2.3011021614074707, 2.305680513381958, 2.3006463050842285, 2.3107290267944336, 2.308695077896118, 2.3035714626312256, 2.3010759353637695, 2.2987725734710693, 2.309051036834717, 2.304591417312622, 2.3097000122070312, 2.3039188385009766, 2.29914927482605, 2.3008344173431396, 2.3030200004577637, 2.2907073497772217, 2.304368019104004, 2.302307605743408, 2.2982051372528076, 2.3009989261627197, 2.303393602371216, 2.3020215034484863, 2.310075521469116, 2.3048946857452393, 2.302934169769287, 2.306812286376953, 2.2939043045043945, 2.3076956272125244, 2.3010010719299316, 2.3037688732147217, 2.3027429580688477, 2.2995309829711914, 2.3041610717773438, 2.307530164718628, 2.3007755279541016, 2.303880453109741, 2.295781373977661, 2.2999682426452637, 2.307905912399292, 2.3021199703216553, 2.296304941177368, 2.30440616607666, 2.309037208557129, 2.3049814701080322, 2.295640230178833, 2.3056640625, 2.2981677055358887, 2.3038980960845947, 2.2991230487823486, 2.3087966442108154, 2.305075168609619, 2.302373170852661, 2.3077242374420166, 2.3018417358398438, 2.2965099811553955, 2.3118631839752197, 2.307443141937256, 2.30289888381958, 2.3038220405578613, 2.3022170066833496, 2.298079252243042, 2.30002498626709, 2.30246901512146, 2.3023250102996826, 2.311408042907715, 2.3045899868011475, 2.3022356033325195, 2.306442975997925, 2.3000686168670654, 2.31604266166687, 2.3065361976623535, 2.305218458175659, 2.3011550903320312, 2.3028595447540283, 2.310014009475708, 2.3081419467926025, 2.2981009483337402, 2.312709331512451, 2.3104748725891113, 2.316694736480713, 2.310652732849121, 2.3028995990753174, 2.304309844970703, 2.2952072620391846, 2.3068668842315674, 2.3029844760894775, 2.297118663787842, 2.3028502464294434, 2.2977852821350098, 2.300119400024414, 2.298428773880005, 2.2999930381774902, 2.3039510250091553, 2.2978925704956055, 2.29738187789917, 2.2996480464935303, 2.3014020919799805, 2.3007969856262207, 2.311157464981079, 2.304018020629883, 2.3093276023864746, 2.296534776687622, 2.3052985668182373, 2.3041701316833496, 2.3012895584106445, 2.298870801925659, 2.304460048675537, 2.2960314750671387, 2.3020575046539307, 2.303098678588867, 2.2975730895996094, 2.302337408065796, 2.3023781776428223, 2.3026108741760254, 2.2984542846679688, 2.297654390335083, 2.302713632583618, 2.306579351425171, 2.2994744777679443, 2.294002056121826, 2.293194532394409, 2.302560329437256, 2.2993102073669434, 2.3091375827789307, 2.302276849746704, 2.290602207183838, 2.3082053661346436, 2.2978243827819824, 2.3076727390289307, 2.3057329654693604, 2.300173759460449, 2.3018927574157715, 2.300734758377075, 2.3034942150115967, 2.3138413429260254, 2.300020933151245, 2.306077480316162, 2.3067872524261475, 2.303071975708008, 2.2979938983917236, 2.3091180324554443, 2.3042306900024414, 2.30285382270813, 2.3051564693450928, 2.2929887771606445, 2.311713695526123, 2.3029184341430664, 2.2975800037384033, 2.3017868995666504, 2.3097755908966064, 2.3077762126922607, 2.3100686073303223, 2.3030831813812256, 2.3109779357910156, 2.3066983222961426, 2.306825876235962, 2.2998054027557373, 2.3016231060028076, 2.297955274581909, 2.300013780593872, 2.304886817932129, 2.3012452125549316, 2.3008975982666016, 2.29868483543396, 2.2999422550201416, 2.3051106929779053, 2.302220106124878, 2.302786350250244, 2.299743413925171, 2.305419445037842, 2.294050455093384, 2.297424793243408, 2.3043019771575928, 2.303044319152832, 2.3024649620056152, 2.3054583072662354, 2.309441328048706, 2.2981717586517334, 2.2936813831329346, 2.3027384281158447, 2.310845375061035, 2.303004026412964, 2.2953879833221436, 2.3096187114715576, 2.302164077758789, 2.3081188201904297, 2.299339532852173, 2.296873092651367, 2.3053109645843506, 2.3070266246795654, 2.3078207969665527, 2.3027000427246094, 2.306981086730957, 2.303708076477051, 2.309178352355957, 2.301727056503296, 2.3048391342163086, 2.3037235736846924, 2.3021492958068848, 2.3068556785583496, 2.3028926849365234, 2.300602436065674, 2.297128915786743, 2.3083724975585938, 2.306541919708252, 2.3069119453430176, 2.3143153190612793, 2.3112704753875732, 2.3013551235198975, 2.306528091430664, 2.306173801422119, 2.2959988117218018, 2.308695077896118, 2.2977468967437744, 2.301020622253418, 2.3067405223846436, 2.3093624114990234, 2.299689531326294, 2.2935256958007812, 2.3082973957061768, 2.3089447021484375, 2.2937004566192627, 2.296922445297241, 2.302184820175171, 2.3044841289520264, 2.2971155643463135], Test Loss= [2.3060970306396484, 2.3066983222961426, 2.305288314819336, 2.3061962127685547, 2.300955057144165, 2.3093974590301514, 2.3061158657073975, 2.299144983291626, 2.296093463897705, 2.3021240234375, 2.3084568977355957, 2.2995526790618896, 2.3014461994171143, 2.295433282852173, 2.3152213096618652, 2.3047561645507812, 2.299738883972168, 2.301626443862915, 2.310037851333618, 2.302079200744629, 2.309563636779785, 2.3099358081817627, 2.3000550270080566, 2.3113245964050293, 2.3028435707092285, 2.3067116737365723, 2.3038418292999268, 2.3055005073547363, 2.3002583980560303, 2.3081812858581543, 2.3068926334381104, 2.305196762084961, 2.3071205615997314, 2.304067611694336, 2.3000552654266357, 2.306748867034912, 2.304412841796875, 2.297623872756958, 2.308488368988037, 2.2953274250030518, 2.300215005874634, 2.3079769611358643, 2.29488468170166, 2.302560806274414, 2.3044557571411133, 2.2941784858703613, 2.300671339035034, 2.3038105964660645, 2.2951488494873047, 2.2983672618865967, 2.304502248764038, 2.300905466079712, 2.3080615997314453, 2.3012828826904297, 2.2965211868286133, 2.306091070175171, 2.3012235164642334, 2.2998297214508057, 2.296306848526001, 2.305351495742798, 2.2991342544555664, 2.3027169704437256, 2.3028016090393066, 2.303649663925171, 2.2944788932800293, 2.313267230987549, 2.307952404022217, 2.3088343143463135, 2.3032240867614746, 2.3051459789276123, 2.3108036518096924, 2.295546293258667, 2.300246477127075, 2.3033640384674072, 2.305110216140747, 2.304598093032837, 2.3153653144836426, 2.3041839599609375, 2.302180767059326]\n",
            "Train Loss= [2.30513072013855, 2.3110499382019043, 2.3038668632507324, 2.2940337657928467, 2.297790288925171, 2.3034820556640625, 2.303964138031006, 2.3006198406219482, 2.2988369464874268, 2.300400495529175, 2.301344394683838, 2.298539876937866, 2.30376935005188, 2.2979750633239746, 2.3108887672424316, 2.30111026763916, 2.3011019229888916, 2.3106753826141357, 2.3045356273651123, 2.3050153255462646, 2.3036551475524902, 2.305310010910034, 2.30400013923645, 2.2961485385894775, 2.3045761585235596, 2.2968456745147705, 2.3101015090942383, 2.311656951904297, 2.3052587509155273, 2.298740863800049, 2.3095176219940186, 2.3096253871917725, 2.3032634258270264, 2.301318883895874, 2.2978599071502686, 2.3036341667175293, 2.3027660846710205, 2.3076045513153076, 2.307913303375244, 2.3044955730438232, 2.301222801208496, 2.29921817779541, 2.3068394660949707, 2.3134891986846924, 2.3057029247283936, 2.310236930847168, 2.3022944927215576, 2.30218768119812, 2.3136019706726074, 2.306992530822754, 2.3005118370056152, 2.309213638305664, 2.3010332584381104, 2.298389434814453, 2.297025203704834, 2.304784059524536, 2.303072452545166, 2.2990825176239014, 2.303180456161499, 2.30135178565979, 2.3009424209594727, 2.302225351333618, 2.298004150390625, 2.2988414764404297, 2.292497396469116, 2.304863929748535, 2.306708574295044, 2.307129144668579, 2.2982513904571533, 2.304445743560791, 2.3056674003601074, 2.303900718688965, 2.295675754547119, 2.3034567832946777, 2.304661989212036, 2.310518980026245, 2.310333728790283, 2.304978609085083, 2.3047854900360107, 2.305072784423828, 2.313485860824585, 2.3038523197174072, 2.3037829399108887, 2.3005030155181885, 2.3083510398864746, 2.3066964149475098, 2.3051095008850098, 2.303524971008301, 2.3004965782165527, 2.314220428466797, 2.312047243118286, 2.301172971725464, 2.298260450363159, 2.3085014820098877, 2.3022801876068115, 2.2996819019317627, 2.2942075729370117, 2.308321952819824, 2.311281204223633, 2.302639961242676, 2.3023183345794678, 2.3069026470184326, 2.304682731628418, 2.309807538986206, 2.3034558296203613, 2.297067880630493, 2.3051085472106934, 2.2967529296875, 2.299783706665039, 2.3042194843292236, 2.306584596633911, 2.2969319820404053, 2.300391435623169, 2.310854434967041, 2.296828269958496, 2.3070762157440186, 2.3051836490631104, 2.299647569656372, 2.296072244644165, 2.30202317237854, 2.3022310733795166, 2.3163018226623535, 2.3075613975524902, 2.3089828491210938, 2.2973716259002686, 2.304222583770752, 2.305396556854248, 2.301008462905884, 2.3083314895629883, 2.306375503540039, 2.312356472015381, 2.310343027114868, 2.304630756378174, 2.306746006011963, 2.300058364868164, 2.305497646331787, 2.301270008087158, 2.3051600456237793, 2.3057844638824463, 2.3019700050354004, 2.3051228523254395, 2.3028814792633057, 2.308835744857788, 2.3107712268829346, 2.298760414123535, 2.3042335510253906, 2.303016424179077, 2.3102009296417236, 2.3049161434173584, 2.309842348098755, 2.301715850830078, 2.303227424621582, 2.3022572994232178, 2.3081886768341064, 2.3019776344299316, 2.300482988357544, 2.3032727241516113, 2.2994067668914795, 2.2963485717773438, 2.2995498180389404, 2.303565502166748, 2.3044683933258057, 2.303328514099121, 2.3079402446746826, 2.307737112045288, 2.2945141792297363, 2.302395820617676, 2.308976888656616, 2.307494640350342, 2.308764696121216, 2.3011066913604736, 2.3020129203796387, 2.3046159744262695, 2.303891897201538, 2.3101675510406494, 2.302619218826294, 2.2989816665649414, 2.2999844551086426, 2.3101940155029297, 2.297482967376709, 2.2993102073669434, 2.304285764694214, 2.3070921897888184, 2.3060553073883057, 2.305936336517334, 2.3064494132995605, 2.3079068660736084, 2.302950859069824, 2.302537202835083, 2.3081822395324707, 2.302109718322754, 2.3044979572296143, 2.3030171394348145, 2.3010385036468506, 2.3007736206054688, 2.3074748516082764, 2.3066465854644775, 2.3026866912841797, 2.3037264347076416, 2.2962636947631836, 2.2943851947784424, 2.307952642440796, 2.3120527267456055, 2.301114082336426, 2.3076305389404297, 2.301675319671631, 2.304656505584717, 2.3073296546936035, 2.3022797107696533, 2.2986388206481934, 2.305345296859741, 2.3061158657073975, 2.3010191917419434, 2.291451930999756, 2.3022286891937256, 2.3030688762664795, 2.296633005142212, 2.3158633708953857, 2.3022398948669434, 2.3001747131347656, 2.2967028617858887, 2.3130171298980713, 2.303781747817993, 2.3042654991149902, 2.311081647872925, 2.299367904663086, 2.300975799560547, 2.305318832397461, 2.29958438873291, 2.298935890197754, 2.296959638595581, 2.3005709648132324, 2.299543857574463, 2.3000128269195557, 2.298227548599243, 2.3013594150543213, 2.305988311767578, 2.304311752319336, 2.299644947052002, 2.2976601123809814, 2.2997920513153076, 2.299510955810547, 2.3030126094818115, 2.3050918579101562, 2.3144147396087646, 2.2998528480529785, 2.302422285079956, 2.301384687423706, 2.301501750946045, 2.29852294921875, 2.2953906059265137, 2.3001537322998047, 2.2979915142059326, 2.296215534210205, 2.298398494720459, 2.3050007820129395, 2.302023410797119, 2.315584659576416, 2.307241201400757, 2.30354642868042, 2.2989821434020996, 2.3016345500946045, 2.304624319076538, 2.2987232208251953, 2.304348945617676, 2.2962419986724854, 2.3013014793395996, 2.3043408393859863, 2.30618953704834, 2.308703899383545, 2.2943549156188965, 2.302198648452759, 2.2962677478790283, 2.3055837154388428, 2.3013675212860107, 2.299190044403076, 2.2947614192962646, 2.3095507621765137, 2.307898759841919, 2.3107335567474365, 2.299853563308716, 2.3118319511413574, 2.297691583633423, 2.304569721221924, 2.302665948867798, 2.30431866645813, 2.302769184112549, 2.3094189167022705, 2.294170379638672, 2.305771827697754, 2.300137996673584, 2.302947521209717, 2.3016886711120605, 2.305040121078491, 2.2955479621887207, 2.299227714538574, 2.3014163970947266, 2.30595064163208, 2.3101630210876465, 2.301891565322876, 2.304680824279785, 2.306062936782837, 2.3068130016326904, 2.304734945297241, 2.3003623485565186, 2.3012535572052, 2.310530662536621, 2.301495313644409, 2.3037993907928467, 2.309576988220215, 2.3027169704437256, 2.298133134841919, 2.298389196395874, 2.30551815032959, 2.2921791076660156, 2.298686981201172, 2.3065624237060547, 2.3028039932250977, 2.3018758296966553, 2.3046514987945557, 2.306579351425171, 2.3064374923706055, 2.3056998252868652, 2.305992364883423, 2.3078901767730713, 2.3016574382781982, 2.302826404571533, 2.3048272132873535, 2.299656391143799, 2.303739547729492, 2.3108458518981934, 2.301968812942505, 2.306164503097534, 2.314452648162842, 2.300154447555542, 2.297300100326538, 2.3050310611724854, 2.3028855323791504, 2.3032279014587402, 2.3035342693328857, 2.2962963581085205, 2.306406259536743, 2.2954280376434326, 2.305604934692383, 2.2966506481170654, 2.304917335510254, 2.3118560314178467, 2.3077306747436523, 2.306736707687378, 2.300116777420044, 2.303548574447632, 2.30061411857605, 2.3055200576782227, 2.3076021671295166, 2.309379816055298, 2.303730010986328, 2.2983179092407227, 2.300696849822998, 2.3014237880706787, 2.29984974861145, 2.297945737838745, 2.308790922164917, 2.295509099960327, 2.3032662868499756, 2.297983407974243, 2.3037467002868652, 2.3011093139648438, 2.297694206237793, 2.302276611328125, 2.300367832183838, 2.2965617179870605, 2.3030683994293213, 2.3043525218963623, 2.298996686935425, 2.3046913146972656, 2.317404270172119, 2.305389165878296, 2.303941011428833, 2.3057777881622314, 2.308298349380493, 2.3031952381134033, 2.3038322925567627, 2.304184675216675, 2.3033065795898438, 2.301349401473999, 2.3150839805603027, 2.3037362098693848, 2.308389186859131, 2.309175968170166, 2.3033342361450195, 2.305858850479126, 2.301316738128662, 2.3046233654022217, 2.3035390377044678, 2.3029141426086426, 2.303220510482788, 2.3028299808502197, 2.297393798828125, 2.3063788414001465, 2.3074569702148438, 2.298943042755127, 2.305896043777466, 2.3109004497528076, 2.3045294284820557, 2.306356906890869, 2.2980847358703613, 2.2976157665252686, 2.302905797958374, 2.297532796859741, 2.2953550815582275, 2.3060812950134277, 2.3057055473327637, 2.3043017387390137, 2.3061749935150146, 2.3092148303985596, 2.299025297164917, 2.306168556213379, 2.301455497741699, 2.2980313301086426, 2.301560401916504, 2.3010826110839844, 2.295931100845337, 2.3034756183624268, 2.3048954010009766, 2.300396203994751, 2.310126543045044, 2.298638343811035, 2.3045811653137207, 2.3114190101623535, 2.295985221862793, 2.303621530532837, 2.3059723377227783, 2.2943315505981445, 2.3015799522399902, 2.3038270473480225, 2.309889793395996, 2.301954746246338, 2.3034729957580566, 2.3001506328582764, 2.3024213314056396, 2.306178331375122, 2.304399251937866, 2.3019988536834717, 2.306022882461548, 2.310002326965332, 2.300377607345581, 2.3054094314575195, 2.3087756633758545, 2.303640365600586, 2.3031091690063477, 2.306156635284424, 2.309335947036743, 2.2999417781829834, 2.3028392791748047, 2.3050639629364014, 2.293170928955078, 2.3038580417633057, 2.3001625537872314, 2.30354905128479, 2.303385019302368, 2.298783540725708, 2.301438093185425, 2.298903226852417, 2.302248954772949, 2.3045613765716553, 2.3047213554382324, 2.3043699264526367, 2.2987852096557617, 2.301539421081543], Test Loss= [2.3060970306396484, 2.3066983222961426, 2.305288314819336, 2.3061962127685547, 2.300955057144165, 2.3093974590301514, 2.3061158657073975, 2.299144983291626, 2.296093463897705, 2.3021240234375, 2.3084568977355957, 2.2995526790618896, 2.3014461994171143, 2.295433282852173, 2.3152213096618652, 2.3047561645507812, 2.299738883972168, 2.301626443862915, 2.310037851333618, 2.302079200744629, 2.309563636779785, 2.3099358081817627, 2.3000550270080566, 2.3113245964050293, 2.3028435707092285, 2.3067116737365723, 2.3038418292999268, 2.3055005073547363, 2.3002583980560303, 2.3081812858581543, 2.3068926334381104, 2.305196762084961, 2.3071205615997314, 2.304067611694336, 2.3000552654266357, 2.306748867034912, 2.304412841796875, 2.297623872756958, 2.308488368988037, 2.2953274250030518, 2.300215005874634, 2.3079769611358643, 2.29488468170166, 2.302560806274414, 2.3044557571411133, 2.2941784858703613, 2.300671339035034, 2.3038105964660645, 2.2951488494873047, 2.2983672618865967, 2.304502248764038, 2.300905466079712, 2.3080615997314453, 2.3012828826904297, 2.2965211868286133, 2.306091070175171, 2.3012235164642334, 2.2998297214508057, 2.296306848526001, 2.305351495742798, 2.2991342544555664, 2.3027169704437256, 2.3028016090393066, 2.303649663925171, 2.2944788932800293, 2.313267230987549, 2.307952404022217, 2.3088343143463135, 2.3032240867614746, 2.3051459789276123, 2.3108036518096924, 2.295546293258667, 2.300246477127075, 2.3033640384674072, 2.305110216140747, 2.304598093032837, 2.3153653144836426, 2.3041839599609375, 2.302180767059326]\n",
            "Train Loss= [2.2912094593048096, 2.303280830383301, 2.3081588745117188, 2.3084356784820557, 2.310868978500366, 2.307758092880249, 2.3094661235809326, 2.307264804840088, 2.3093411922454834, 2.2992005348205566, 2.3040366172790527, 2.3024351596832275, 2.2976131439208984, 2.301210403442383, 2.3076212406158447, 2.3113784790039062, 2.296745538711548, 2.300771474838257, 2.306114673614502, 2.302719831466675, 2.300132989883423, 2.305630683898926, 2.3122963905334473, 2.3044116497039795, 2.300325632095337, 2.304314136505127, 2.30098557472229, 2.3058676719665527, 2.3000407218933105, 2.2984447479248047, 2.2990071773529053, 2.2982425689697266, 2.3057963848114014, 2.3050687313079834, 2.3042280673980713, 2.3051302433013916, 2.2983920574188232, 2.301915407180786, 2.2982964515686035, 2.3010199069976807, 2.3055083751678467, 2.2934157848358154, 2.312026262283325, 2.2983453273773193, 2.308443546295166, 2.3006632328033447, 2.3023111820220947, 2.2977449893951416, 2.3022494316101074, 2.301955223083496, 2.303870677947998, 2.29934024810791, 2.307020902633667, 2.3038079738616943, 2.306851863861084, 2.307600259780884, 2.3023695945739746, 2.302210569381714, 2.302849531173706, 2.311140298843384, 2.3070366382598877, 2.30094313621521, 2.2985548973083496, 2.309680461883545, 2.305872917175293, 2.302009344100952, 2.297006130218506, 2.3044607639312744, 2.293117046356201, 2.2996864318847656, 2.302170515060425, 2.3001723289489746, 2.304807662963867, 2.3047008514404297, 2.306536912918091, 2.30871844291687, 2.3040504455566406, 2.3090603351593018, 2.3002803325653076, 2.3023297786712646, 2.3003690242767334, 2.317554235458374, 2.2980823516845703, 2.310915946960449, 2.303621768951416, 2.301154851913452, 2.3091585636138916, 2.2997992038726807, 2.3034110069274902, 2.3068394660949707, 2.302016496658325, 2.310598611831665, 2.3079335689544678, 2.308969497680664, 2.3071649074554443, 2.3091044425964355, 2.296762228012085, 2.3030805587768555, 2.310075521469116, 2.3037126064300537, 2.297377347946167, 2.298987865447998, 2.305464029312134, 2.3033106327056885, 2.2933433055877686, 2.298724412918091, 2.304100751876831, 2.296725273132324, 2.2960400581359863, 2.2915611267089844, 2.3099899291992188, 2.2968647480010986, 2.3066632747650146, 2.301570177078247, 2.3012945652008057, 2.310944080352783, 2.3003315925598145, 2.312999963760376, 2.301659107208252, 2.299588918685913, 2.3055057525634766, 2.300349235534668, 2.300333261489868, 2.3084256649017334, 2.3081490993499756, 2.3046391010284424, 2.3103740215301514, 2.3038251399993896, 2.3138628005981445, 2.2971532344818115, 2.3012428283691406, 2.303722381591797, 2.3067502975463867, 2.3169326782226562, 2.302262544631958, 2.298295259475708, 2.3009190559387207, 2.2976882457733154, 2.302283763885498, 2.3002045154571533, 2.302645206451416, 2.306046962738037, 2.3035836219787598, 2.3045976161956787, 2.3059871196746826, 2.3043503761291504, 2.3037736415863037, 2.3046627044677734, 2.306278705596924, 2.2973599433898926, 2.3057377338409424, 2.30016827583313, 2.3004589080810547, 2.2977705001831055, 2.3081164360046387, 2.3007843494415283, 2.293872833251953, 2.2997336387634277, 2.310467481613159, 2.308338165283203, 2.307305335998535, 2.3076391220092773, 2.3042445182800293, 2.30361008644104, 2.3035199642181396, 2.303997755050659, 2.301468849182129, 2.3064255714416504, 2.3030405044555664, 2.308652877807617, 2.2995548248291016, 2.3121628761291504, 2.3041114807128906, 2.3023295402526855, 2.2964601516723633, 2.2975800037384033, 2.3058407306671143, 2.2997853755950928, 2.2974328994750977, 2.3044424057006836, 2.302522659301758, 2.3011012077331543, 2.3021392822265625, 2.3021886348724365, 2.306687355041504, 2.303378105163574, 2.312638282775879, 2.3048460483551025, 2.3106908798217773, 2.2967870235443115, 2.3075945377349854, 2.296708583831787, 2.30218505859375, 2.297489643096924, 2.3052618503570557, 2.310112476348877, 2.3064324855804443, 2.3077168464660645, 2.307375431060791, 2.298924207687378, 2.297001838684082, 2.2952988147735596, 2.3054089546203613, 2.307826519012451, 2.3051657676696777, 2.3051722049713135, 2.292607307434082, 2.29545521736145, 2.301546573638916, 2.3022305965423584, 2.298511028289795, 2.3033673763275146, 2.3049771785736084, 2.312633752822876, 2.301745653152466, 2.308506727218628, 2.300381660461426, 2.3007612228393555, 2.314124345779419, 2.3037991523742676, 2.3008575439453125, 2.3044803142547607, 2.301680326461792, 2.297240734100342, 2.305450439453125, 2.303175926208496, 2.311593770980835, 2.304725170135498, 2.2961580753326416, 2.3086743354797363, 2.301757335662842, 2.305891752243042, 2.301417350769043, 2.303602933883667, 2.302034616470337, 2.305757761001587, 2.297323226928711, 2.311344861984253, 2.3014187812805176, 2.303013324737549, 2.301361560821533, 2.306845188140869, 2.3021469116210938, 2.2980573177337646, 2.2965152263641357, 2.3065338134765625, 2.3052408695220947, 2.30135178565979, 2.3095502853393555, 2.3064284324645996, 2.3026206493377686, 2.3088786602020264, 2.3070850372314453, 2.3093323707580566, 2.3070054054260254, 2.3041412830352783, 2.2985057830810547, 2.3031980991363525, 2.305849313735962, 2.3037171363830566, 2.2958333492279053, 2.3088936805725098, 2.301130771636963, 2.3035261631011963, 2.3061764240264893, 2.304784059524536, 2.3062050342559814, 2.30145525932312, 2.304342031478882, 2.310194969177246, 2.3040759563446045, 2.306997060775757, 2.2967076301574707, 2.3062961101531982, 2.299438953399658, 2.2984044551849365, 2.3025152683258057, 2.3000118732452393, 2.303077220916748, 2.306382656097412, 2.3011105060577393, 2.308014392852783, 2.3051106929779053, 2.2985036373138428, 2.3026530742645264, 2.3097941875457764, 2.307459831237793, 2.3004655838012695, 2.292815685272217, 2.3009612560272217, 2.3018250465393066, 2.2962615489959717, 2.30741810798645, 2.3026208877563477, 2.3002586364746094, 2.3058342933654785, 2.3054730892181396, 2.2992944717407227, 2.302076578140259, 2.302091598510742, 2.308587074279785, 2.3056976795196533, 2.3025519847869873, 2.303589344024658, 2.3147826194763184, 2.2979142665863037, 2.3088457584381104, 2.3126211166381836, 2.3038151264190674, 2.3048253059387207, 2.30863094329834, 2.30599045753479, 2.3005692958831787, 2.297090768814087, 2.3098905086517334, 2.3034164905548096, 2.305300235748291, 2.3060808181762695, 2.3037962913513184, 2.298781633377075, 2.3077707290649414, 2.2990431785583496, 2.304532051086426, 2.3082594871520996, 2.2999517917633057, 2.30644154548645, 2.3067853450775146, 2.297213554382324, 2.305896520614624, 2.3037068843841553, 2.3090298175811768, 2.3109140396118164, 2.302828788757324, 2.3025267124176025, 2.3045802116394043, 2.30916690826416, 2.303248643875122, 2.29961895942688, 2.2935950756073, 2.3106932640075684, 2.302433967590332, 2.3098511695861816, 2.3097240924835205, 2.3051812648773193, 2.2970352172851562, 2.3053972721099854, 2.2997732162475586, 2.305471897125244, 2.2930855751037598, 2.29933762550354, 2.3007595539093018, 2.3093461990356445, 2.3051815032958984, 2.298886299133301, 2.305199384689331, 2.3035221099853516, 2.302227735519409, 2.3099629878997803, 2.3032000064849854, 2.308337450027466, 2.306340456008911, 2.298336982727051, 2.3078150749206543, 2.307814359664917, 2.3022708892822266, 2.303601026535034, 2.2976183891296387, 2.30090594291687, 2.3111517429351807, 2.3034896850585938, 2.300471544265747, 2.3030104637145996, 2.3125600814819336, 2.297926902770996, 2.307756185531616, 2.3080544471740723, 2.301767110824585, 2.304504156112671, 2.3044559955596924, 2.297556161880493, 2.298043727874756, 2.295454740524292, 2.3037352561950684, 2.291896104812622, 2.3009629249572754, 2.305781126022339, 2.2983055114746094, 2.2990806102752686, 2.2993760108947754, 2.3043768405914307, 2.2972333431243896, 2.296025514602661, 2.3059165477752686, 2.30153226852417, 2.297603130340576, 2.305236577987671, 2.301349401473999, 2.3097517490386963, 2.302746295928955, 2.300408363342285, 2.298840045928955, 2.2926783561706543, 2.3135926723480225, 2.3016388416290283, 2.3061609268188477, 2.302229166030884, 2.2990050315856934, 2.2948429584503174, 2.305713176727295, 2.3059866428375244, 2.2996654510498047, 2.3023648262023926, 2.296091318130493, 2.3030261993408203, 2.305596351623535, 2.3026065826416016, 2.3009798526763916, 2.3018555641174316, 2.298546314239502, 2.296929121017456, 2.3077168464660645, 2.299764394760132, 2.3071069717407227, 2.3088226318359375, 2.3003344535827637, 2.307278633117676, 2.298008918762207, 2.3072097301483154, 2.3005545139312744, 2.3015952110290527, 2.3005294799804688, 2.30311918258667, 2.3029589653015137, 2.2976956367492676, 2.3039166927337646, 2.3044941425323486, 2.309797525405884, 2.2968811988830566, 2.3024778366088867, 2.2967615127563477, 2.300560474395752, 2.3013181686401367, 2.3002126216888428, 2.2986419200897217, 2.3065567016601562, 2.298525094985962, 2.309662103652954, 2.296131134033203, 2.30780291557312, 2.3051013946533203, 2.304349184036255, 2.302726984024048, 2.3016419410705566, 2.307333469390869, 2.3064486980438232, 2.3079094886779785, 2.303741693496704, 2.309028148651123, 2.297419309616089, 2.3053665161132812, 2.31319522857666, 2.3118112087249756, 2.2962968349456787, 2.304499864578247, 2.305274248123169, 2.3060004711151123, 2.2969589233398438, 2.30804181098938, 2.312978982925415], Test Loss= [2.3060970306396484, 2.3066983222961426, 2.305288314819336, 2.3061962127685547, 2.300955057144165, 2.3093974590301514, 2.3061158657073975, 2.299144983291626, 2.296093463897705, 2.3021240234375, 2.3084568977355957, 2.2995526790618896, 2.3014461994171143, 2.295433282852173, 2.3152213096618652, 2.3047561645507812, 2.299738883972168, 2.301626443862915, 2.310037851333618, 2.302079200744629, 2.309563636779785, 2.3099358081817627, 2.3000550270080566, 2.3113245964050293, 2.3028435707092285, 2.3067116737365723, 2.3038418292999268, 2.3055005073547363, 2.3002583980560303, 2.3081812858581543, 2.3068926334381104, 2.305196762084961, 2.3071205615997314, 2.304067611694336, 2.3000552654266357, 2.306748867034912, 2.304412841796875, 2.297623872756958, 2.308488368988037, 2.2953274250030518, 2.300215005874634, 2.3079769611358643, 2.29488468170166, 2.302560806274414, 2.3044557571411133, 2.2941784858703613, 2.300671339035034, 2.3038105964660645, 2.2951488494873047, 2.2983672618865967, 2.304502248764038, 2.300905466079712, 2.3080615997314453, 2.3012828826904297, 2.2965211868286133, 2.306091070175171, 2.3012235164642334, 2.2998297214508057, 2.296306848526001, 2.305351495742798, 2.2991342544555664, 2.3027169704437256, 2.3028016090393066, 2.303649663925171, 2.2944788932800293, 2.313267230987549, 2.307952404022217, 2.3088343143463135, 2.3032240867614746, 2.3051459789276123, 2.3108036518096924, 2.295546293258667, 2.300246477127075, 2.3033640384674072, 2.305110216140747, 2.304598093032837, 2.3153653144836426, 2.3041839599609375, 2.302180767059326]\n",
            "Train Loss= [2.3062052726745605, 2.2958080768585205, 2.2962000370025635, 2.299804210662842, 2.307640314102173, 2.3042166233062744, 2.308389902114868, 2.308565378189087, 2.304872512817383, 2.304565191268921, 2.300154447555542, 2.3115413188934326, 2.3068716526031494, 2.3053884506225586, 2.3093206882476807, 2.299198865890503, 2.3022701740264893, 2.3109793663024902, 2.3012850284576416, 2.2974658012390137, 2.2973225116729736, 2.3030848503112793, 2.30013108253479, 2.3033974170684814, 2.297163486480713, 2.30484676361084, 2.3031156063079834, 2.30912446975708, 2.3083419799804688, 2.3065247535705566, 2.3060429096221924, 2.312187433242798, 2.3033204078674316, 2.3079469203948975, 2.30314302444458, 2.3052725791931152, 2.300100803375244, 2.3066112995147705, 2.2982683181762695, 2.2935631275177, 2.3105006217956543, 2.30133056640625, 2.307929277420044, 2.3055710792541504, 2.3070528507232666, 2.3021128177642822, 2.3032565116882324, 2.298841714859009, 2.3087387084960938, 2.2968828678131104, 2.304002046585083, 2.3060202598571777, 2.299471855163574, 2.3011786937713623, 2.307040214538574, 2.300724506378174, 2.2985429763793945, 2.3018462657928467, 2.3040170669555664, 2.307049036026001, 2.3119428157806396, 2.2972710132598877, 2.302639961242676, 2.3061866760253906, 2.3055126667022705, 2.306650400161743, 2.302314043045044, 2.309159994125366, 2.303953170776367, 2.305619716644287, 2.299671173095703, 2.3028323650360107, 2.3104681968688965, 2.3048551082611084, 2.306100845336914, 2.3006646633148193, 2.302114725112915, 2.2948174476623535, 2.295311450958252, 2.3098063468933105, 2.306544542312622, 2.309039831161499, 2.3073596954345703, 2.3051555156707764, 2.3080830574035645, 2.298215389251709, 2.309666872024536, 2.302239179611206, 2.2974460124969482, 2.3025126457214355, 2.2981979846954346, 2.302499294281006, 2.3011770248413086, 2.311286687850952, 2.3022282123565674, 2.3086559772491455, 2.29984450340271, 2.3051037788391113, 2.3022687435150146, 2.3021650314331055, 2.301754951477051, 2.299140453338623, 2.295881748199463, 2.3054237365722656, 2.3033266067504883, 2.301558017730713, 2.3016273975372314, 2.302474021911621, 2.3019115924835205, 2.299362897872925, 2.295931100845337, 2.301102876663208, 2.3018763065338135, 2.302929162979126, 2.2969024181365967, 2.3084802627563477, 2.3034627437591553, 2.3103156089782715, 2.3022451400756836, 2.3082406520843506, 2.3035778999328613, 2.2962229251861572, 2.307422399520874, 2.3028650283813477, 2.3027584552764893, 2.301600217819214, 2.3031880855560303, 2.305734634399414, 2.3049631118774414, 2.303718328475952, 2.30025053024292, 2.298476457595825, 2.30491042137146, 2.3012843132019043, 2.304676055908203, 2.3016955852508545, 2.309077739715576, 2.3079159259796143, 2.3005199432373047, 2.309791088104248, 2.2971549034118652, 2.3002214431762695, 2.303697109222412, 2.3040409088134766, 2.3064639568328857, 2.3099098205566406, 2.307154655456543, 2.3059310913085938, 2.2988381385803223, 2.301980495452881, 2.2968080043792725, 2.301281690597534, 2.301203727722168, 2.3031728267669678, 2.2950901985168457, 2.3086142539978027, 2.3036153316497803, 2.3035807609558105, 2.294415235519409, 2.300044059753418, 2.3001596927642822, 2.3050737380981445, 2.3041181564331055, 2.3036141395568848, 2.3097474575042725, 2.3003313541412354, 2.302384614944458, 2.300508499145508, 2.301145076751709, 2.2977399826049805, 2.310774803161621, 2.3020217418670654, 2.303493022918701, 2.303706407546997, 2.300941228866577, 2.307912826538086, 2.3000855445861816, 2.3058009147644043, 2.3037240505218506, 2.304003953933716, 2.3071677684783936, 2.31201171875, 2.297306776046753, 2.3025660514831543, 2.3050856590270996, 2.311155319213867, 2.296154737472534, 2.305504083633423, 2.3035593032836914, 2.3037006855010986, 2.2999050617218018, 2.3061182498931885, 2.300077199935913, 2.304905652999878, 2.299717664718628, 2.2981743812561035, 2.303328037261963, 2.3028528690338135, 2.3053390979766846, 2.3114943504333496, 2.304136276245117, 2.3032631874084473, 2.3024587631225586, 2.3036930561065674, 2.311087131500244, 2.305436849594116, 2.3087146282196045, 2.2982475757598877, 2.3053982257843018, 2.3044559955596924, 2.301849365234375, 2.2989509105682373, 2.3077919483184814, 2.3098440170288086, 2.295776605606079, 2.297116756439209, 2.3100032806396484, 2.307682991027832, 2.298414468765259, 2.301220417022705, 2.305950164794922, 2.3096923828125, 2.3100240230560303, 2.3089258670806885, 2.308077096939087, 2.3008410930633545, 2.2986373901367188, 2.298619270324707, 2.307974100112915, 2.303532838821411, 2.2989299297332764, 2.3079559803009033, 2.306704044342041, 2.2943098545074463, 2.2949376106262207, 2.300869941711426, 2.3045525550842285, 2.300974130630493, 2.3043670654296875, 2.3016602993011475, 2.3023955821990967, 2.308338165283203, 2.3010482788085938, 2.3002607822418213, 2.3028030395507812, 2.2984297275543213, 2.307957887649536, 2.302764415740967, 2.3057048320770264, 2.2947540283203125, 2.3113250732421875, 2.2985024452209473, 2.3044633865356445, 2.301842451095581, 2.300887107849121, 2.303631067276001, 2.293175220489502, 2.3005895614624023, 2.305436611175537, 2.308717966079712, 2.309558153152466, 2.308104991912842, 2.298506498336792, 2.304755926132202, 2.306978225708008, 2.2973883152008057, 2.304553747177124, 2.301464796066284, 2.30403470993042, 2.3028464317321777, 2.306150436401367, 2.302720308303833, 2.3040482997894287, 2.305246114730835, 2.306861639022827, 2.3005075454711914, 2.302696943283081, 2.299351453781128, 2.313632011413574, 2.298177719116211, 2.307030200958252, 2.2998952865600586, 2.309443950653076, 2.3049216270446777, 2.30460786819458, 2.3029112815856934, 2.293396234512329, 2.3067800998687744, 2.306631088256836, 2.3013508319854736, 2.2967655658721924, 2.3103599548339844, 2.303873300552368, 2.3041319847106934, 2.3043017387390137, 2.3021399974823, 2.3035998344421387, 2.305637836456299, 2.3038394451141357, 2.2962422370910645, 2.300807237625122, 2.3029961585998535, 2.2985572814941406, 2.2986886501312256, 2.3054914474487305, 2.3063344955444336, 2.3106164932250977, 2.3075194358825684, 2.3074917793273926, 2.306560516357422, 2.3045215606689453, 2.299042224884033, 2.2975831031799316, 2.298978567123413, 2.3117690086364746, 2.306783437728882, 2.30792498588562, 2.3054068088531494, 2.311826705932617, 2.2962841987609863, 2.2950689792633057, 2.3067264556884766, 2.3045966625213623, 2.302239179611206, 2.304274320602417, 2.3044240474700928, 2.311171293258667, 2.299710512161255, 2.3077967166900635, 2.3085453510284424, 2.306274652481079, 2.303121328353882, 2.305946111679077, 2.305272102355957, 2.306637763977051, 2.3067750930786133, 2.2931833267211914, 2.3041036128997803, 2.3057494163513184, 2.30013370513916, 2.3043429851531982, 2.303415060043335, 2.297743082046509, 2.303983688354492, 2.3064332008361816, 2.307878255844116, 2.303631067276001, 2.306710958480835, 2.3034517765045166, 2.3016560077667236, 2.3014047145843506, 2.307051420211792, 2.3008038997650146, 2.310774803161621, 2.299018383026123, 2.29841947555542, 2.305651903152466, 2.3093090057373047, 2.3002724647521973, 2.301809310913086, 2.3164596557617188, 2.304417133331299, 2.30715274810791, 2.2997591495513916, 2.300337314605713, 2.3025500774383545, 2.298647403717041, 2.300342321395874, 2.2958364486694336, 2.3029603958129883, 2.3032636642456055, 2.3003010749816895, 2.304724931716919, 2.294907808303833, 2.306750774383545, 2.3038458824157715, 2.300245761871338, 2.292119264602661, 2.3031318187713623, 2.3049259185791016, 2.298621654510498, 2.302825689315796, 2.3004400730133057, 2.2943577766418457, 2.3015077114105225, 2.3027689456939697, 2.300168991088867, 2.3093373775482178, 2.300689458847046, 2.2992002964019775, 2.3039486408233643, 2.310838460922241, 2.3018288612365723, 2.3022119998931885, 2.2968435287475586, 2.2937538623809814, 2.306117296218872, 2.3023486137390137, 2.303602933883667, 2.3039722442626953, 2.3061633110046387, 2.2995235919952393, 2.3043577671051025, 2.3067362308502197, 2.297757387161255, 2.311140775680542, 2.30949330329895, 2.302959442138672, 2.304492712020874, 2.29828143119812, 2.2953293323516846, 2.3140575885772705, 2.3038907051086426, 2.305635452270508, 2.3088085651397705, 2.3045613765716553, 2.3070595264434814, 2.304342031478882, 2.3039300441741943, 2.3020849227905273, 2.3062851428985596, 2.3072245121002197, 2.307016372680664, 2.298919677734375, 2.3011627197265625, 2.3093576431274414, 2.301243782043457, 2.305929183959961, 2.302511215209961, 2.3028969764709473, 2.3079934120178223, 2.301302671432495, 2.3082432746887207, 2.300107955932617, 2.3040406703948975, 2.2964742183685303, 2.2939162254333496, 2.296175718307495, 2.2950520515441895, 2.3020732402801514, 2.3006653785705566, 2.3035802841186523, 2.306040048599243, 2.299592971801758, 2.306692123413086, 2.2981297969818115, 2.3032798767089844, 2.2984001636505127, 2.2991724014282227, 2.2971906661987305, 2.3070170879364014, 2.302839994430542, 2.310849666595459, 2.312509059906006, 2.3107104301452637, 2.3086533546447754, 2.3075993061065674, 2.307236433029175, 2.3056201934814453, 2.302100658416748, 2.29783034324646, 2.30049467086792, 2.3087713718414307, 2.304769992828369, 2.301237106323242, 2.303814172744751, 2.3039908409118652, 2.2966456413269043, 2.3078818321228027], Test Loss= [2.3060970306396484, 2.3066983222961426, 2.305288314819336, 2.3061962127685547, 2.300955057144165, 2.3093974590301514, 2.3061158657073975, 2.299144983291626, 2.296093463897705, 2.3021240234375, 2.3084568977355957, 2.2995526790618896, 2.3014461994171143, 2.295433282852173, 2.3152213096618652, 2.3047561645507812, 2.299738883972168, 2.301626443862915, 2.310037851333618, 2.302079200744629, 2.309563636779785, 2.3099358081817627, 2.3000550270080566, 2.3113245964050293, 2.3028435707092285, 2.3067116737365723, 2.3038418292999268, 2.3055005073547363, 2.3002583980560303, 2.3081812858581543, 2.3068926334381104, 2.305196762084961, 2.3071205615997314, 2.304067611694336, 2.3000552654266357, 2.306748867034912, 2.304412841796875, 2.297623872756958, 2.308488368988037, 2.2953274250030518, 2.300215005874634, 2.3079769611358643, 2.29488468170166, 2.302560806274414, 2.3044557571411133, 2.2941784858703613, 2.300671339035034, 2.3038105964660645, 2.2951488494873047, 2.2983672618865967, 2.304502248764038, 2.300905466079712, 2.3080615997314453, 2.3012828826904297, 2.2965211868286133, 2.306091070175171, 2.3012235164642334, 2.2998297214508057, 2.296306848526001, 2.305351495742798, 2.2991342544555664, 2.3027169704437256, 2.3028016090393066, 2.303649663925171, 2.2944788932800293, 2.313267230987549, 2.307952404022217, 2.3088343143463135, 2.3032240867614746, 2.3051459789276123, 2.3108036518096924, 2.295546293258667, 2.300246477127075, 2.3033640384674072, 2.305110216140747, 2.304598093032837, 2.3153653144836426, 2.3041839599609375, 2.302180767059326]\n",
            "Train Loss= [2.3095805644989014, 2.306856393814087, 2.305471420288086, 2.296933174133301, 2.303133010864258, 2.3083395957946777, 2.3014767169952393, 2.301990270614624, 2.3091559410095215, 2.307525396347046, 2.3027782440185547, 2.303112506866455, 2.302929401397705, 2.303713321685791, 2.304647445678711, 2.3011410236358643, 2.307321786880493, 2.3010590076446533, 2.2985925674438477, 2.3077785968780518, 2.30177903175354, 2.3038012981414795, 2.308088779449463, 2.310264825820923, 2.2998595237731934, 2.306366443634033, 2.307806968688965, 2.30210280418396, 2.3027353286743164, 2.3017678260803223, 2.304128885269165, 2.2986955642700195, 2.3045287132263184, 2.313591957092285, 2.297246217727661, 2.3040337562561035, 2.3000853061676025, 2.3018691539764404, 2.3051273822784424, 2.314088821411133, 2.2964680194854736, 2.298994779586792, 2.300793409347534, 2.3110172748565674, 2.2986762523651123, 2.2996129989624023, 2.2994468212127686, 2.30769681930542, 2.301060199737549, 2.3061439990997314, 2.3028745651245117, 2.306640863418579, 2.3018686771392822, 2.30822491645813, 2.302032709121704, 2.3051469326019287, 2.3085415363311768, 2.305793046951294, 2.2981066703796387, 2.2997653484344482, 2.3145344257354736, 2.303020477294922, 2.305509328842163, 2.293609380722046, 2.3006179332733154, 2.299960136413574, 2.3006274700164795, 2.297036647796631, 2.3148856163024902, 2.3045756816864014, 2.303178310394287, 2.299018144607544, 2.3035354614257812, 2.307521104812622, 2.3040406703948975, 2.2960689067840576, 2.30880069732666, 2.298295259475708, 2.301626443862915, 2.3075039386749268, 2.3058390617370605, 2.2993054389953613, 2.2971456050872803, 2.3028640747070312, 2.3052074909210205, 2.306407928466797, 2.30538010597229, 2.3061110973358154, 2.2971811294555664, 2.2991061210632324, 2.305591344833374, 2.2996506690979004, 2.302828311920166, 2.3013432025909424, 2.3031656742095947, 2.302166223526001, 2.3039674758911133, 2.2947962284088135, 2.3092775344848633, 2.302698850631714, 2.3035027980804443, 2.299530267715454, 2.3080637454986572, 2.304342269897461, 2.302992343902588, 2.2957801818847656, 2.3151309490203857, 2.300724744796753, 2.3042993545532227, 2.2991507053375244, 2.294633150100708, 2.3051412105560303, 2.3068692684173584, 2.3092896938323975, 2.3077609539031982, 2.3012826442718506, 2.304065465927124, 2.305307388305664, 2.305964231491089, 2.304011821746826, 2.3070216178894043, 2.3051421642303467, 2.3022611141204834, 2.3006269931793213, 2.3075382709503174, 2.3026621341705322, 2.3043956756591797, 2.3046226501464844, 2.30951189994812, 2.3042640686035156, 2.3047056198120117, 2.3025646209716797, 2.297150135040283, 2.2937440872192383, 2.2956607341766357, 2.3091537952423096, 2.293212652206421, 2.3007640838623047, 2.3036794662475586, 2.306161880493164, 2.3065991401672363, 2.300239324569702, 2.3057425022125244, 2.2986488342285156, 2.3020646572113037, 2.3009798526763916, 2.3060965538024902, 2.299795627593994, 2.2956550121307373, 2.303231716156006, 2.3096516132354736, 2.301689863204956, 2.3045434951782227, 2.3025524616241455, 2.301469087600708, 2.3066701889038086, 2.303788423538208, 2.3029723167419434, 2.2963483333587646, 2.3027493953704834, 2.3008334636688232, 2.3106913566589355, 2.307856559753418, 2.2941787242889404, 2.303879976272583, 2.307854175567627, 2.3078973293304443, 2.30863094329834, 2.296919822692871, 2.3088581562042236, 2.3103976249694824, 2.3080241680145264, 2.29705548286438, 2.302182912826538, 2.30733060836792, 2.3042027950286865, 2.3055052757263184, 2.2978034019470215, 2.3061773777008057, 2.313499689102173, 2.3024327754974365, 2.3066048622131348, 2.296837568283081, 2.3061203956604004, 2.3071165084838867, 2.307180643081665, 2.2945549488067627, 2.304888963699341, 2.2953336238861084, 2.300856590270996, 2.3046388626098633, 2.3043506145477295, 2.303046703338623, 2.3024728298187256, 2.306786298751831, 2.3031089305877686, 2.3069989681243896, 2.302966594696045, 2.298273801803589, 2.2979393005371094, 2.3007190227508545, 2.3052544593811035, 2.306183338165283, 2.3081886768341064, 2.3018383979797363, 2.298492431640625, 2.299349784851074, 2.2968883514404297, 2.3042612075805664, 2.3052778244018555, 2.3044962882995605, 2.2948496341705322, 2.3000948429107666, 2.3098652362823486, 2.3030481338500977, 2.3018219470977783, 2.303720235824585, 2.308420181274414, 2.3050038814544678, 2.313312530517578, 2.2986061573028564, 2.299426317214966, 2.3065264225006104, 2.301379442214966, 2.3047797679901123, 2.3083224296569824, 2.3115921020507812, 2.3077845573425293, 2.3021936416625977, 2.310441017150879, 2.3004841804504395, 2.3017210960388184, 2.3103368282318115, 2.3029825687408447, 2.2985355854034424, 2.294013500213623, 2.3014321327209473, 2.3132705688476562, 2.302225112915039, 2.304187774658203, 2.292872667312622, 2.301300287246704, 2.3083343505859375, 2.2978010177612305, 2.3031177520751953, 2.3046748638153076, 2.2927088737487793, 2.303166627883911, 2.2995188236236572, 2.308234453201294, 2.301471710205078, 2.303180456161499, 2.3090178966522217, 2.309429168701172, 2.301743507385254, 2.3061442375183105, 2.299816131591797, 2.3038368225097656, 2.310655355453491, 2.302551746368408, 2.3038406372070312, 2.3037660121917725, 2.2967498302459717, 2.299643039703369, 2.3041234016418457, 2.3033957481384277, 2.3134055137634277, 2.299926996231079, 2.300746202468872, 2.30061936378479, 2.304137945175171, 2.3045687675476074, 2.3105552196502686, 2.2997853755950928, 2.3070685863494873, 2.3060154914855957, 2.305858612060547, 2.301903486251831, 2.2985785007476807, 2.306668519973755, 2.3008131980895996, 2.3052971363067627, 2.3020098209381104, 2.3008530139923096, 2.3007335662841797, 2.303236961364746, 2.3051021099090576, 2.294820547103882, 2.300638198852539, 2.3017656803131104, 2.294020175933838, 2.310305595397949, 2.3035552501678467, 2.3030762672424316, 2.302760362625122, 2.2996623516082764, 2.3095386028289795, 2.292543888092041, 2.306504726409912, 2.308730125427246, 2.301206350326538, 2.308242082595825, 2.298816442489624, 2.3014047145843506, 2.298144817352295, 2.3073837757110596, 2.307499647140503, 2.3121182918548584, 2.304793357849121, 2.292829990386963, 2.2988548278808594, 2.3030409812927246, 2.306753635406494, 2.300436019897461, 2.2935285568237305, 2.2999250888824463, 2.303300380706787, 2.3080756664276123, 2.3121116161346436, 2.3043553829193115, 2.3066985607147217, 2.301349639892578, 2.302812099456787, 2.310046434402466, 2.3074424266815186, 2.312441349029541, 2.2987935543060303, 2.3057191371917725, 2.302600622177124, 2.302884340286255, 2.300943374633789, 2.3086652755737305, 2.309682607650757, 2.299412488937378, 2.2970752716064453, 2.305668592453003, 2.298513174057007, 2.3093039989471436, 2.3078513145446777, 2.302908420562744, 2.3038694858551025, 2.3079912662506104, 2.300692081451416, 2.3047802448272705, 2.3092730045318604, 2.3040568828582764, 2.3028225898742676, 2.299058675765991, 2.3039515018463135, 2.3103692531585693, 2.3029258251190186, 2.3076529502868652, 2.3034026622772217, 2.303516387939453, 2.3044800758361816, 2.3040218353271484, 2.3000566959381104, 2.3085172176361084, 2.2995402812957764, 2.300715684890747, 2.305405616760254, 2.3042733669281006, 2.3033335208892822, 2.302901268005371, 2.3124656677246094, 2.3027000427246094, 2.303359270095825, 2.307670831680298, 2.303785562515259, 2.309243679046631, 2.306060791015625, 2.304757833480835, 2.3016903400421143, 2.2986278533935547, 2.298384666442871, 2.3101818561553955, 2.3045501708984375, 2.3038077354431152, 2.3037986755371094, 2.290952444076538, 2.296043634414673, 2.303210973739624, 2.2952001094818115, 2.307260513305664, 2.299808979034424, 2.297400712966919, 2.301084518432617, 2.3032402992248535, 2.300588846206665, 2.308166027069092, 2.3070077896118164, 2.3002359867095947, 2.298100233078003, 2.3085856437683105, 2.3045287132263184, 2.295769214630127, 2.3067548274993896, 2.2988381385803223, 2.299160957336426, 2.2995235919952393, 2.303598165512085, 2.305060386657715, 2.291569471359253, 2.3048818111419678, 2.293581247329712, 2.30002498626709, 2.31462025642395, 2.3081867694854736, 2.3050904273986816, 2.3032214641571045, 2.3049585819244385, 2.3122329711914062, 2.301393508911133, 2.299353837966919, 2.30316162109375, 2.30387544631958, 2.2960691452026367, 2.312976598739624, 2.3051042556762695, 2.3093483448028564, 2.307847499847412, 2.3076603412628174, 2.3043015003204346, 2.305068254470825, 2.3027918338775635, 2.3006415367126465, 2.3047189712524414, 2.296684741973877, 2.3034894466400146, 2.3007097244262695, 2.3046531677246094, 2.298375129699707, 2.308145046234131, 2.3058292865753174, 2.297393798828125, 2.311116933822632, 2.3002054691314697, 2.3002359867095947, 2.3063249588012695, 2.2948148250579834, 2.3008310794830322, 2.2982301712036133, 2.2999632358551025, 2.306273937225342, 2.2994346618652344, 2.3025481700897217, 2.2994120121002197, 2.3049521446228027, 2.3004114627838135, 2.30623459815979, 2.3073480129241943, 2.299198627471924, 2.302609920501709, 2.299194574356079, 2.3062405586242676, 2.3055832386016846, 2.3040475845336914, 2.305131435394287, 2.304704189300537, 2.3120226860046387, 2.3056657314300537, 2.3066630363464355, 2.299099922180176, 2.303013324737549, 2.3022658824920654, 2.303040027618408, 2.3033506870269775, 2.3072335720062256, 2.3059215545654297], Test Loss= [2.3060970306396484, 2.3066983222961426, 2.305288314819336, 2.3061962127685547, 2.300955057144165, 2.3093974590301514, 2.3061158657073975, 2.299144983291626, 2.296093463897705, 2.3021240234375, 2.3084568977355957, 2.2995526790618896, 2.3014461994171143, 2.295433282852173, 2.3152213096618652, 2.3047561645507812, 2.299738883972168, 2.301626443862915, 2.310037851333618, 2.302079200744629, 2.309563636779785, 2.3099358081817627, 2.3000550270080566, 2.3113245964050293, 2.3028435707092285, 2.3067116737365723, 2.3038418292999268, 2.3055005073547363, 2.3002583980560303, 2.3081812858581543, 2.3068926334381104, 2.305196762084961, 2.3071205615997314, 2.304067611694336, 2.3000552654266357, 2.306748867034912, 2.304412841796875, 2.297623872756958, 2.308488368988037, 2.2953274250030518, 2.300215005874634, 2.3079769611358643, 2.29488468170166, 2.302560806274414, 2.3044557571411133, 2.2941784858703613, 2.300671339035034, 2.3038105964660645, 2.2951488494873047, 2.2983672618865967, 2.304502248764038, 2.300905466079712, 2.3080615997314453, 2.3012828826904297, 2.2965211868286133, 2.306091070175171, 2.3012235164642334, 2.2998297214508057, 2.296306848526001, 2.305351495742798, 2.2991342544555664, 2.3027169704437256, 2.3028016090393066, 2.303649663925171, 2.2944788932800293, 2.313267230987549, 2.307952404022217, 2.3088343143463135, 2.3032240867614746, 2.3051459789276123, 2.3108036518096924, 2.295546293258667, 2.300246477127075, 2.3033640384674072, 2.305110216140747, 2.304598093032837, 2.3153653144836426, 2.3041839599609375, 2.302180767059326]\n",
            "Train Loss= [2.302076578140259, 2.30802845954895, 2.3074893951416016, 2.2982394695281982, 2.3040566444396973, 2.2930331230163574, 2.3031489849090576, 2.3025639057159424, 2.3072845935821533, 2.3098697662353516, 2.2959017753601074, 2.3060338497161865, 2.306788682937622, 2.3036701679229736, 2.301332473754883, 2.299668788909912, 2.3014867305755615, 2.303678274154663, 2.3014965057373047, 2.3010506629943848, 2.3025288581848145, 2.300811290740967, 2.309563159942627, 2.293952226638794, 2.3018157482147217, 2.302807569503784, 2.3056774139404297, 2.299520969390869, 2.309183359146118, 2.2998533248901367, 2.310288429260254, 2.3042781352996826, 2.3079559803009033, 2.3073983192443848, 2.3041698932647705, 2.2934908866882324, 2.296154499053955, 2.3050124645233154, 2.3082666397094727, 2.295790910720825, 2.304274082183838, 2.302377700805664, 2.298034906387329, 2.2998719215393066, 2.30259108543396, 2.2932791709899902, 2.3014848232269287, 2.2977614402770996, 2.3084874153137207, 2.3104732036590576, 2.2939465045928955, 2.297215461730957, 2.299177646636963, 2.298165798187256, 2.296880006790161, 2.301546335220337, 2.2990622520446777, 2.305675506591797, 2.311737537384033, 2.3025012016296387, 2.2960004806518555, 2.3090007305145264, 2.299356460571289, 2.307396411895752, 2.3038642406463623, 2.3097879886627197, 2.306851625442505, 2.3110945224761963, 2.3034024238586426, 2.31562876701355, 2.305253505706787, 2.3125839233398438, 2.304729700088501, 2.308112859725952, 2.299795150756836, 2.3096137046813965, 2.3070478439331055, 2.2965404987335205, 2.302276611328125, 2.309124708175659, 2.3030102252960205, 2.2973084449768066, 2.2996177673339844, 2.2975518703460693, 2.308208703994751, 2.310617685317993, 2.3007266521453857, 2.3026230335235596, 2.30222749710083, 2.303128242492676, 2.3046352863311768, 2.307506561279297, 2.301161527633667, 2.2970309257507324, 2.3012185096740723, 2.302290201187134, 2.302279233932495, 2.3022921085357666, 2.2991960048675537, 2.306198835372925, 2.3083009719848633, 2.3032596111297607, 2.3070831298828125, 2.310290813446045, 2.2979018688201904, 2.306316375732422, 2.3055760860443115, 2.305893898010254, 2.301851749420166, 2.296978712081909, 2.2959744930267334, 2.2975540161132812, 2.2920854091644287, 2.3000359535217285, 2.306452512741089, 2.3017797470092773, 2.303298234939575, 2.31241774559021, 2.3093767166137695, 2.3056623935699463, 2.300887107849121, 2.3067665100097656, 2.3068926334381104, 2.3018131256103516, 2.3094632625579834, 2.3012595176696777, 2.3028173446655273, 2.302264928817749, 2.309178352355957, 2.305421829223633, 2.307138681411743, 2.2985641956329346, 2.3022382259368896, 2.311699867248535, 2.303704023361206, 2.2996528148651123, 2.305191993713379, 2.3084452152252197, 2.300903081893921, 2.3089683055877686, 2.3117311000823975, 2.298797845840454, 2.306936740875244, 2.2989635467529297, 2.304250478744507, 2.288353204727173, 2.29992938041687, 2.306075096130371, 2.3078935146331787, 2.3070924282073975, 2.310288906097412, 2.3046364784240723, 2.305344343185425, 2.302811861038208, 2.3048622608184814, 2.300692558288574, 2.3133647441864014, 2.2968521118164062, 2.303443670272827, 2.310439348220825, 2.3117473125457764, 2.3014941215515137, 2.304870128631592, 2.3029141426086426, 2.3049471378326416, 2.296961784362793, 2.301605224609375, 2.305912494659424, 2.3086397647857666, 2.309173822402954, 2.30759596824646, 2.29704213142395, 2.3004064559936523, 2.2992632389068604, 2.3018267154693604, 2.3079495429992676, 2.3033854961395264, 2.2992966175079346, 2.2992701530456543, 2.3016602993011475, 2.3024566173553467, 2.3105733394622803, 2.2927818298339844, 2.3071351051330566, 2.2963531017303467, 2.3028645515441895, 2.3075239658355713, 2.2954769134521484, 2.2992095947265625, 2.304730176925659, 2.2991998195648193, 2.3080315589904785, 2.298121690750122, 2.301748514175415, 2.3060412406921387, 2.3077802658081055, 2.303483724594116, 2.296295404434204, 2.3054189682006836, 2.3069586753845215, 2.299940824508667, 2.3049213886260986, 2.307004928588867, 2.2939295768737793, 2.3056740760803223, 2.295745611190796, 2.3020849227905273, 2.311563014984131, 2.312088966369629, 2.3053691387176514, 2.307382583618164, 2.305493116378784, 2.3072171211242676, 2.3100500106811523, 2.306342840194702, 2.293943405151367, 2.3001022338867188, 2.3047828674316406, 2.309566020965576, 2.3058629035949707, 2.3072609901428223, 2.3009047508239746, 2.300429344177246, 2.297494649887085, 2.3026621341705322, 2.3062632083892822, 2.301460027694702, 2.3053951263427734, 2.302717924118042, 2.3087034225463867, 2.3055338859558105, 2.302061080932617, 2.293736696243286, 2.290159225463867, 2.304255723953247, 2.3037991523742676, 2.302438259124756, 2.3050124645233154, 2.301947832107544, 2.3049559593200684, 2.3064255714416504, 2.3046305179595947, 2.299832582473755, 2.299424648284912, 2.298677444458008, 2.3094482421875, 2.3000593185424805, 2.296204090118408, 2.3019585609436035, 2.3011066913604736, 2.3054628372192383, 2.3022849559783936, 2.2955286502838135, 2.3033077716827393, 2.307136297225952, 2.2999050617218018, 2.3007972240448, 2.3041136264801025, 2.3016185760498047, 2.3072924613952637, 2.3039586544036865, 2.307466506958008, 2.2997384071350098, 2.3004519939422607, 2.3026483058929443, 2.303290843963623, 2.3065896034240723, 2.3029632568359375, 2.315634250640869, 2.3089945316314697, 2.3001511096954346, 2.302610397338867, 2.2952685356140137, 2.3041889667510986, 2.3028109073638916, 2.3021492958068848, 2.303203582763672, 2.308911085128784, 2.303337574005127, 2.307053327560425, 2.3077752590179443, 2.309119462966919, 2.3103315830230713, 2.3016574382781982, 2.3065874576568604, 2.3054075241088867, 2.302938461303711, 2.3067047595977783, 2.3136863708496094, 2.306854724884033, 2.296605348587036, 2.30124831199646, 2.298656940460205, 2.3010385036468506, 2.2992587089538574, 2.304671049118042, 2.308868646621704, 2.311945676803589, 2.308727502822876, 2.3080787658691406, 2.300718307495117, 2.303093194961548, 2.303860902786255, 2.304161787033081, 2.3038792610168457, 2.3099472522735596, 2.311910390853882, 2.3030765056610107, 2.2997584342956543, 2.3107361793518066, 2.302494525909424, 2.305116653442383, 2.3036139011383057, 2.3036553859710693, 2.3062121868133545, 2.300701379776001, 2.3007261753082275, 2.3095831871032715, 2.3181698322296143, 2.29506778717041, 2.2881088256835938, 2.3090028762817383, 2.2992565631866455, 2.3168256282806396, 2.2926764488220215, 2.296426773071289, 2.3025238513946533, 2.307427167892456, 2.3074655532836914, 2.296846628189087, 2.3010637760162354, 2.3026230335235596, 2.3068411350250244, 2.3075201511383057, 2.309152841567993, 2.299307107925415, 2.303246259689331, 2.3056280612945557, 2.3064510822296143, 2.30295991897583, 2.2987561225891113, 2.3106188774108887, 2.299983501434326, 2.2976744174957275, 2.3010976314544678, 2.299938201904297, 2.2947938442230225, 2.3055598735809326, 2.3019840717315674, 2.30202054977417, 2.2973923683166504, 2.309161901473999, 2.3092942237854004, 2.3049731254577637, 2.3053760528564453, 2.31499981880188, 2.3076260089874268, 2.3016457557678223, 2.3001298904418945, 2.3041486740112305, 2.297769069671631, 2.3100292682647705, 2.302938461303711, 2.30326509475708, 2.3007874488830566, 2.307095527648926, 2.2965915203094482, 2.301564931869507, 2.302227735519409, 2.3036043643951416, 2.304776191711426, 2.2965524196624756, 2.3045949935913086, 2.3080012798309326, 2.310999870300293, 2.3001930713653564, 2.3078184127807617, 2.3051137924194336, 2.2997331619262695, 2.308943271636963, 2.304840087890625, 2.308218240737915, 2.3022844791412354, 2.302546262741089, 2.2973473072052, 2.3069612979888916, 2.3018481731414795, 2.298966407775879, 2.296077013015747, 2.303995132446289, 2.3031325340270996, 2.3052263259887695, 2.30509614944458, 2.2970824241638184, 2.2984750270843506, 2.3085684776306152, 2.3054208755493164, 2.302128791809082, 2.3013291358947754, 2.294440507888794, 2.2976009845733643, 2.3063602447509766, 2.305605411529541, 2.301643133163452, 2.3028275966644287, 2.2992169857025146, 2.299373149871826, 2.3031272888183594, 2.304159641265869, 2.3014469146728516, 2.306624174118042, 2.3054378032684326, 2.301760673522949, 2.3037333488464355, 2.3127379417419434, 2.306108236312866, 2.3164384365081787, 2.2981009483337402, 2.301257848739624, 2.3004844188690186, 2.2981040477752686, 2.299494981765747, 2.300603151321411, 2.3043553829193115, 2.300814390182495, 2.3016245365142822, 2.309462547302246, 2.308670997619629, 2.296079158782959, 2.300621747970581, 2.298891305923462, 2.2990307807922363, 2.3035080432891846, 2.303736686706543, 2.2947065830230713, 2.304931402206421, 2.3095548152923584, 2.3047597408294678, 2.3027219772338867, 2.299565076828003, 2.3069000244140625, 2.298308849334717, 2.3085672855377197, 2.3054332733154297, 2.296934127807617, 2.311537265777588, 2.3021316528320312, 2.302940845489502, 2.2920033931732178, 2.301664352416992, 2.3058114051818848, 2.3013246059417725, 2.3050856590270996, 2.2997350692749023, 2.298286199569702, 2.3052890300750732, 2.306570053100586, 2.305699348449707, 2.300989866256714, 2.3058581352233887, 2.2989754676818848, 2.3065237998962402, 2.3025765419006348, 2.311056613922119, 2.305136203765869, 2.3025481700897217, 2.3015923500061035, 2.3019297122955322, 2.3019912242889404], Test Loss= [2.3060970306396484, 2.3066983222961426, 2.305288314819336, 2.3061962127685547, 2.300955057144165, 2.3093974590301514, 2.3061158657073975, 2.299144983291626, 2.296093463897705, 2.3021240234375, 2.3084568977355957, 2.2995526790618896, 2.3014461994171143, 2.295433282852173, 2.3152213096618652, 2.3047561645507812, 2.299738883972168, 2.301626443862915, 2.310037851333618, 2.302079200744629, 2.309563636779785, 2.3099358081817627, 2.3000550270080566, 2.3113245964050293, 2.3028435707092285, 2.3067116737365723, 2.3038418292999268, 2.3055005073547363, 2.3002583980560303, 2.3081812858581543, 2.3068926334381104, 2.305196762084961, 2.3071205615997314, 2.304067611694336, 2.3000552654266357, 2.306748867034912, 2.304412841796875, 2.297623872756958, 2.308488368988037, 2.2953274250030518, 2.300215005874634, 2.3079769611358643, 2.29488468170166, 2.302560806274414, 2.3044557571411133, 2.2941784858703613, 2.300671339035034, 2.3038105964660645, 2.2951488494873047, 2.2983672618865967, 2.304502248764038, 2.300905466079712, 2.3080615997314453, 2.3012828826904297, 2.2965211868286133, 2.306091070175171, 2.3012235164642334, 2.2998297214508057, 2.296306848526001, 2.305351495742798, 2.2991342544555664, 2.3027169704437256, 2.3028016090393066, 2.303649663925171, 2.2944788932800293, 2.313267230987549, 2.307952404022217, 2.3088343143463135, 2.3032240867614746, 2.3051459789276123, 2.3108036518096924, 2.295546293258667, 2.300246477127075, 2.3033640384674072, 2.305110216140747, 2.304598093032837, 2.3153653144836426, 2.3041839599609375, 2.302180767059326]\n",
            "Train Loss= [2.3019306659698486, 2.301570415496826, 2.2976136207580566, 2.3088905811309814, 2.3091912269592285, 2.3053274154663086, 2.302593946456909, 2.314976215362549, 2.3040518760681152, 2.311246395111084, 2.307082414627075, 2.297274112701416, 2.302192449569702, 2.3035776615142822, 2.3043813705444336, 2.3054187297821045, 2.3094396591186523, 2.2986762523651123, 2.3049654960632324, 2.297417402267456, 2.306424617767334, 2.3017470836639404, 2.3014113903045654, 2.2989563941955566, 2.3051979541778564, 2.295635938644409, 2.300720453262329, 2.3051371574401855, 2.293616533279419, 2.3001842498779297, 2.30741810798645, 2.3081276416778564, 2.306419849395752, 2.3051669597625732, 2.3038554191589355, 2.299851179122925, 2.3016927242279053, 2.3085837364196777, 2.306450366973877, 2.306480884552002, 2.3010950088500977, 2.2976419925689697, 2.3020949363708496, 2.301053047180176, 2.297501802444458, 2.3010880947113037, 2.3060452938079834, 2.30511212348938, 2.3061656951904297, 2.311917543411255, 2.3058557510375977, 2.3041088581085205, 2.30361008644104, 2.307607650756836, 2.2999961376190186, 2.3023815155029297, 2.307128429412842, 2.3154025077819824, 2.3074307441711426, 2.3009603023529053, 2.3050291538238525, 2.3063952922821045, 2.303044319152832, 2.306169033050537, 2.3055527210235596, 2.295440435409546, 2.304274082183838, 2.2995269298553467, 2.2993323802948, 2.308135747909546, 2.2983646392822266, 2.2997522354125977, 2.302614212036133, 2.301229476928711, 2.3033759593963623, 2.306101083755493, 2.3067686557769775, 2.301346778869629, 2.3004233837127686, 2.304969310760498, 2.3034894466400146, 2.2986931800842285, 2.297640085220337, 2.3061041831970215, 2.304919958114624, 2.3022544384002686, 2.3044192790985107, 2.297595739364624, 2.297384738922119, 2.3043437004089355, 2.3056604862213135, 2.3068995475769043, 2.308148145675659, 2.3031177520751953, 2.3076624870300293, 2.2961270809173584, 2.304080009460449, 2.303025484085083, 2.2992076873779297, 2.305758476257324, 2.2933478355407715, 2.3000330924987793, 2.302062749862671, 2.3011093139648438, 2.3038976192474365, 2.307512044906616, 2.30309796333313, 2.299236297607422, 2.294019937515259, 2.3079006671905518, 2.2986958026885986, 2.3009767532348633, 2.303941488265991, 2.3030059337615967, 2.3092613220214844, 2.3005025386810303, 2.3034708499908447, 2.2911665439605713, 2.3052468299865723, 2.2978081703186035, 2.304048776626587, 2.3033230304718018, 2.30176043510437, 2.305609703063965, 2.3081679344177246, 2.2997963428497314, 2.3013789653778076, 2.2964887619018555, 2.3123717308044434, 2.295433521270752, 2.3032662868499756, 2.311570167541504, 2.3092093467712402, 2.300623655319214, 2.3027758598327637, 2.2981040477752686, 2.3008852005004883, 2.2979159355163574, 2.3066160678863525, 2.308264970779419, 2.2943532466888428, 2.3151626586914062, 2.304649591445923, 2.303382635116577, 2.2990787029266357, 2.2961370944976807, 2.305577516555786, 2.3054709434509277, 2.308445692062378, 2.299452781677246, 2.303680658340454, 2.305403709411621, 2.30317759513855, 2.2992238998413086, 2.3076388835906982, 2.2938389778137207, 2.307046413421631, 2.3000056743621826, 2.3034679889678955, 2.3009889125823975, 2.293172836303711, 2.3034985065460205, 2.303149700164795, 2.3018510341644287, 2.311638116836548, 2.3001708984375, 2.3064563274383545, 2.3059098720550537, 2.3078858852386475, 2.3012168407440186, 2.309314727783203, 2.3010270595550537, 2.3119187355041504, 2.306427478790283, 2.309960126876831, 2.3088014125823975, 2.3017637729644775, 2.3015427589416504, 2.3100335597991943, 2.2983438968658447, 2.3100533485412598, 2.302394151687622, 2.297410726547241, 2.306183338165283, 2.3027026653289795, 2.310467004776001, 2.3032686710357666, 2.2952115535736084, 2.299654483795166, 2.3040006160736084, 2.30171799659729, 2.300624370574951, 2.3038220405578613, 2.3041446208953857, 2.3133151531219482, 2.3061914443969727, 2.3102738857269287, 2.3108971118927, 2.3011934757232666, 2.304403066635132, 2.3018321990966797, 2.307986259460449, 2.2933573722839355, 2.298311948776245, 2.301262617111206, 2.296272039413452, 2.3001887798309326, 2.3064305782318115, 2.300513744354248, 2.3070545196533203, 2.3017988204956055, 2.305694818496704, 2.3017117977142334, 2.2996022701263428, 2.298719882965088, 2.304508686065674, 2.3062002658843994, 2.3021862506866455, 2.3045525550842285, 2.2969329357147217, 2.3035688400268555, 2.3035788536071777, 2.3061916828155518, 2.299142599105835, 2.30228328704834, 2.2997305393218994, 2.309429883956909, 2.302851438522339, 2.299185276031494, 2.3018112182617188, 2.3110578060150146, 2.2976067066192627, 2.306994915008545, 2.3035225868225098, 2.2946231365203857, 2.2963173389434814, 2.2981760501861572, 2.2979929447174072, 2.3020570278167725, 2.3010733127593994, 2.306101083755493, 2.2965872287750244, 2.305748462677002, 2.3068888187408447, 2.297985553741455, 2.304997682571411, 2.3046255111694336, 2.3135223388671875, 2.2998416423797607, 2.313342332839966, 2.2996649742126465, 2.299485206604004, 2.3015387058258057, 2.3089873790740967, 2.303941488265991, 2.298149347305298, 2.303016424179077, 2.3106861114501953, 2.295072078704834, 2.307328701019287, 2.300701379776001, 2.3044378757476807, 2.3119287490844727, 2.3056061267852783, 2.3024344444274902, 2.3015544414520264, 2.3138608932495117, 2.311678409576416, 2.3056962490081787, 2.299710512161255, 2.305629253387451, 2.300060272216797, 2.306807041168213, 2.301197052001953, 2.3064115047454834, 2.3009088039398193, 2.300501823425293, 2.3126416206359863, 2.3025715351104736, 2.3017654418945312, 2.3024983406066895, 2.298041343688965, 2.3093762397766113, 2.3052659034729004, 2.310983419418335, 2.305431842803955, 2.3016810417175293, 2.3054964542388916, 2.302586555480957, 2.3020365238189697, 2.3019700050354004, 2.3065099716186523, 2.300140619277954, 2.3000285625457764, 2.301236629486084, 2.2984585762023926, 2.3079044818878174, 2.296069383621216, 2.3031530380249023, 2.3051655292510986, 2.3018836975097656, 2.3018438816070557, 2.3082714080810547, 2.3103225231170654, 2.290616750717163, 2.30537748336792, 2.303586721420288, 2.3047473430633545, 2.2973685264587402, 2.3076281547546387, 2.310136318206787, 2.297374725341797, 2.3032209873199463, 2.3061294555664062, 2.304215908050537, 2.303868055343628, 2.3088231086730957, 2.3052265644073486, 2.3001301288604736, 2.2930715084075928, 2.3024933338165283, 2.3086910247802734, 2.304050922393799, 2.306563377380371, 2.2976529598236084, 2.3021352291107178, 2.2969882488250732, 2.3015315532684326, 2.2979443073272705, 2.2990493774414062, 2.30110239982605, 2.3124423027038574, 2.306105852127075, 2.2975375652313232, 2.3013782501220703, 2.3081493377685547, 2.301551342010498, 2.3106279373168945, 2.3082141876220703, 2.3020644187927246, 2.2978169918060303, 2.3021554946899414, 2.305850028991699, 2.303603410720825, 2.2967700958251953, 2.2977685928344727, 2.2999563217163086, 2.2960965633392334, 2.3090810775756836, 2.3052399158477783, 2.302048683166504, 2.2999513149261475, 2.3074333667755127, 2.302067279815674, 2.30441951751709, 2.3052306175231934, 2.306450605392456, 2.2884631156921387, 2.302255868911743, 2.3057820796966553, 2.3003032207489014, 2.3009798526763916, 2.304234743118286, 2.3051769733428955, 2.305173873901367, 2.3039298057556152, 2.30464506149292, 2.304882764816284, 2.305142641067505, 2.3128321170806885, 2.3154618740081787, 2.299067974090576, 2.304999351501465, 2.2967748641967773, 2.3097710609436035, 2.301698923110962, 2.299034595489502, 2.3051581382751465, 2.303769111633301, 2.300442695617676, 2.306480884552002, 2.303867816925049, 2.3024649620056152, 2.3065361976623535, 2.3060829639434814, 2.2969608306884766, 2.2997660636901855, 2.300799608230591, 2.303483009338379, 2.2981936931610107, 2.303972005844116, 2.3066751956939697, 2.3003573417663574, 2.3085997104644775, 2.3043839931488037, 2.3062243461608887, 2.30949330329895, 2.296882390975952, 2.312070608139038, 2.3064539432525635, 2.3064584732055664, 2.29890513420105, 2.305863857269287, 2.308234453201294, 2.3040852546691895, 2.306563138961792, 2.2971434593200684, 2.303494453430176, 2.298973560333252, 2.3109078407287598, 2.301689386367798, 2.3075132369995117, 2.3024537563323975, 2.3073348999023438, 2.303645133972168, 2.302260160446167, 2.3006420135498047, 2.3016340732574463, 2.2980127334594727, 2.2998127937316895, 2.306302070617676, 2.303788185119629, 2.3090200424194336, 2.301764488220215, 2.3039493560791016, 2.307812213897705, 2.3008663654327393, 2.30673885345459, 2.3076446056365967, 2.3069796562194824, 2.296382188796997, 2.3055248260498047, 2.3002824783325195, 2.30879282951355, 2.3027143478393555, 2.3022265434265137, 2.3072776794433594, 2.3102645874023438, 2.30788516998291, 2.3013510704040527, 2.305751323699951, 2.3025848865509033, 2.3004097938537598, 2.2994022369384766, 2.305124044418335, 2.3039886951446533, 2.2961997985839844, 2.3030054569244385, 2.304293155670166, 2.308439254760742, 2.3086862564086914, 2.3104300498962402, 2.2964627742767334, 2.3007538318634033, 2.3130757808685303, 2.3034424781799316, 2.307312250137329, 2.3046908378601074, 2.3062124252319336, 2.2987709045410156, 2.308196544647217, 2.3060574531555176, 2.302858591079712, 2.2975995540618896, 2.3011176586151123, 2.3061561584472656, 2.2964065074920654, 2.305546283721924, 2.302489995956421], Test Loss= [2.3060970306396484, 2.3066983222961426, 2.305288314819336, 2.3061962127685547, 2.300955057144165, 2.3093974590301514, 2.3061158657073975, 2.299144983291626, 2.296093463897705, 2.3021240234375, 2.3084568977355957, 2.2995526790618896, 2.3014461994171143, 2.295433282852173, 2.3152213096618652, 2.3047561645507812, 2.299738883972168, 2.301626443862915, 2.310037851333618, 2.302079200744629, 2.309563636779785, 2.3099358081817627, 2.3000550270080566, 2.3113245964050293, 2.3028435707092285, 2.3067116737365723, 2.3038418292999268, 2.3055005073547363, 2.3002583980560303, 2.3081812858581543, 2.3068926334381104, 2.305196762084961, 2.3071205615997314, 2.304067611694336, 2.3000552654266357, 2.306748867034912, 2.304412841796875, 2.297623872756958, 2.308488368988037, 2.2953274250030518, 2.300215005874634, 2.3079769611358643, 2.29488468170166, 2.302560806274414, 2.3044557571411133, 2.2941784858703613, 2.300671339035034, 2.3038105964660645, 2.2951488494873047, 2.2983672618865967, 2.304502248764038, 2.300905466079712, 2.3080615997314453, 2.3012828826904297, 2.2965211868286133, 2.306091070175171, 2.3012235164642334, 2.2998297214508057, 2.296306848526001, 2.305351495742798, 2.2991342544555664, 2.3027169704437256, 2.3028016090393066, 2.303649663925171, 2.2944788932800293, 2.313267230987549, 2.307952404022217, 2.3088343143463135, 2.3032240867614746, 2.3051459789276123, 2.3108036518096924, 2.295546293258667, 2.300246477127075, 2.3033640384674072, 2.305110216140747, 2.304598093032837, 2.3153653144836426, 2.3041839599609375, 2.302180767059326]\n"
          ]
        }
      ]
    },
    {
      "cell_type": "code",
      "metadata": {
        "colab": {
          "base_uri": "https://localhost:8080/",
          "height": 275
        },
        "id": "CKybGT-CSPFk",
        "outputId": "54bb4d49-32d2-4bc8-8fde-bdeece2ce81b"
      },
      "source": [
        "plt.plot(train_losses, label='Train Losses')\n",
        "plt.plot(test_losses, label='Test Losses')\n",
        "plt.legend();"
      ],
      "execution_count": 46,
      "outputs": [
        {
          "output_type": "display_data",
          "data": {
            "image/png": "[encoded data removed]",
            "text/plain": [
              "<Figure size 432x288 with 1 Axes>"
            ]
          },
          "metadata": {
            "needs_background": "light"
          }
        }
      ]
    }
  ]
}